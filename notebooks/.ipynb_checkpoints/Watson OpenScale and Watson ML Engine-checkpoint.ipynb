{
 "cells": [
  {
   "cell_type": "markdown",
   "metadata": {},
   "source": [
    "<img src=\"https://github.com/pmservice/ai-openscale-tutorials/raw/master/notebooks/images/banner.png\" align=\"left\" alt=\"banner\">"
   ]
  },
  {
   "cell_type": "markdown",
   "metadata": {},
   "source": [
    "# Working with Watson Machine Learning"
   ]
  },
  {
   "cell_type": "markdown",
   "metadata": {},
   "source": [
    "This notebook should be run in a Watson Studio project, using **Default Spark Python** runtime environment. **If you are viewing this in Watson Studio and do not see Python 3.6 with Spark in the upper right corner of your screen, please update the runtime now.** It requires service credentials for the following Cloud services:\n",
    "  * Watson OpenScale\n",
    "  * Watson Machine Learning\n",
    "  \n",
    "If you have a paid Cloud account, you may also provision a **Databases for PostgreSQL** or **Db2 Warehouse** service to take full advantage of integration with Watson Studio and continuous learning services. If you choose not to provision this paid service, you can use the free internal PostgreSQL storage with OpenScale, but will not be able to configure continuous learning for your model.\n",
    "\n",
    "The notebook will train, create and deploy a German Credit Risk model, configure OpenScale to monitor that deployment, and inject seven days' worth of historical records and measurements for viewing in the OpenScale Insights dashboard."
   ]
  },
  {
   "cell_type": "markdown",
   "metadata": {},
   "source": [
    "### Contents\n",
    "\n",
    "- [Setup](#setup)\n",
    "- [Model building and deployment](#model)\n",
    "- [OpenScale configuration](#openscale)\n",
    "- [Quality monitor and feedback logging](#quality)\n",
    "- [Fairness, drift monitoring and explanations](#fairness)\n",
    "- [Custom monitors and metrics](#custom)\n",
    "- [Payload analytics](#analytics)\n",
    "- [Business application](#application)\n",
    "- [Historical data](#historical)"
   ]
  },
  {
   "cell_type": "markdown",
   "metadata": {},
   "source": [
    "# Setup <a name=\"setup\"></a>"
   ]
  },
  {
   "cell_type": "markdown",
   "metadata": {},
   "source": [
    "## Spark check"
   ]
  },
  {
   "cell_type": "code",
   "execution_count": 1,
   "metadata": {},
   "outputs": [],
   "source": [
    "import findspark\n",
    "findspark.init()\n",
    "import pyspark\n",
    "try:\n",
    "    from pyspark.sql import SparkSession\n",
    "except:\n",
    "    print('Error: Spark runtime is missing. If you are using Watson Studio change the notebook runtime to Spark.')\n",
    "    raise "
   ]
  },
  {
   "cell_type": "markdown",
   "metadata": {
    "collapsed": true
   },
   "source": [
    "## Package installation"
   ]
  },
  {
   "cell_type": "code",
   "execution_count": 2,
   "metadata": {},
   "outputs": [
    {
     "name": "stdout",
     "output_type": "stream",
     "text": [
      "\u001b[31mtensorflow 1.13.1 requires tensorboard<1.14.0,>=1.13.0, which is not installed.\u001b[0m\n",
      "\u001b[31mibm-cos-sdk-core 2.4.3 has requirement urllib3<1.25,>=1.20, but you'll have urllib3 1.25.6 which is incompatible.\u001b[0m\n",
      "\u001b[31mbotocore 1.12.82 has requirement urllib3<1.25,>=1.20, but you'll have urllib3 1.25.6 which is incompatible.\u001b[0m\n",
      "Successfully installed certifi-2019.9.11 chardet-3.0.4 h5py-2.10.0 ibm-ai-openscale-2.1.17 idna-2.8 numpy-1.17.2 pandas-0.25.1 python-dateutil-2.8.0 pytz-2019.2 requests-2.22.0 six-1.12.0 tabulate-0.8.5 urllib3-1.25.6\n",
      "\u001b[31mtensorflow 1.13.1 requires tensorboard<1.14.0,>=1.13.0, which is not installed.\u001b[0m\n",
      "\u001b[31mbotocore 1.12.82 has requirement urllib3<1.25,>=1.20, but you'll have urllib3 1.25.6 which is incompatible.\u001b[0m\n",
      "Successfully installed certifi-2019.9.11 chardet-3.0.4 docutils-0.15.2 ibm-cos-sdk-2.5.4 ibm-cos-sdk-core-2.5.4 ibm-cos-sdk-s3transfer-2.5.4 idna-2.8 jmespath-0.9.4 lomond-0.3.3 numpy-1.17.2 pandas-0.25.1 python-dateutil-2.8.0 pytz-2019.2 requests-2.22.0 six-1.12.0 tabulate-0.8.5 tqdm-4.36.1 urllib3-1.25.6 watson-machine-learning-client-1.0.375\n",
      "\u001b[31mtensorflow 1.13.1 requires tensorboard<1.14.0,>=1.13.0, which is not installed.\u001b[0m\n",
      "Successfully installed numpy-1.17.2\n",
      "\u001b[31mtensorflow 1.13.1 requires tensorboard<1.14.0,>=1.13.0, which is not installed.\u001b[0m\n",
      "Successfully installed SciPy-1.3.1 numpy-1.17.2\n",
      "\u001b[31mtensorflow 1.13.1 requires tensorboard<1.14.0,>=1.13.0, which is not installed.\u001b[0m\n",
      "\u001b[31mbotocore 1.12.82 has requirement urllib3<1.25,>=1.20, but you'll have urllib3 1.25.6 which is incompatible.\u001b[0m\n",
      "\u001b[33mTarget directory /home/spark/shared/user-libs/python3.6/python_dateutil-2.8.0.dist-info already exists. Specify --upgrade to force replacement.\u001b[0m\n",
      "\u001b[33mTarget directory /home/spark/shared/user-libs/python3.6/scipy already exists. Specify --upgrade to force replacement.\u001b[0m\n",
      "\u001b[33mTarget directory /home/spark/shared/user-libs/python3.6/numpy already exists. Specify --upgrade to force replacement.\u001b[0m\n",
      "\u001b[33mTarget directory /home/spark/shared/user-libs/python3.6/dateutil already exists. Specify --upgrade to force replacement.\u001b[0m\n",
      "\u001b[33mTarget directory /home/spark/shared/user-libs/python3.6/six-1.12.0.dist-info already exists. Specify --upgrade to force replacement.\u001b[0m\n",
      "\u001b[33mTarget directory /home/spark/shared/user-libs/python3.6/six.py already exists. Specify --upgrade to force replacement.\u001b[0m\n",
      "\u001b[33mTarget directory /home/spark/shared/user-libs/python3.6/__pycache__ already exists. Specify --upgrade to force replacement.\u001b[0m\n",
      "\u001b[33mTarget directory /home/spark/shared/user-libs/python3.6/numpy-1.17.2.dist-info already exists. Specify --upgrade to force replacement.\u001b[0m\n",
      "\u001b[33mTarget directory /home/spark/shared/user-libs/python3.6/scipy-1.3.1.dist-info already exists. Specify --upgrade to force replacement.\u001b[0m\n",
      "\u001b[33mTarget directory /home/spark/shared/user-libs/python3.6/bin already exists. Specify --upgrade to force replacement.\u001b[0m\n",
      "Successfully installed PyWavelets-1.0.3 cycler-0.10.0 decorator-4.4.0 imageio-2.5.0 joblib-0.14.0 kiwisolver-1.1.0 lime-0.1.1.36 matplotlib-3.1.1 networkx-2.3 numpy-1.17.2 pillow-6.2.0 pyparsing-2.4.2 python-dateutil-2.8.0 scikit-image-0.15.0 scikit-learn-0.21.3 scipy-1.3.1 setuptools-41.2.0 six-1.12.0\n",
      "\u001b[31mtensorflow 1.13.1 requires tensorboard<1.14.0,>=1.13.0, which is not installed.\u001b[0m\n",
      "\u001b[31mbotocore 1.12.82 has requirement urllib3<1.25,>=1.20, but you'll have urllib3 1.25.6 which is incompatible.\u001b[0m\n",
      "\u001b[33mTarget directory /home/spark/shared/user-libs/python3.6/pkg_resources already exists. Specify --upgrade to force replacement.\u001b[0m\n",
      "\u001b[33mTarget directory /home/spark/shared/user-libs/python3.6/requests already exists. Specify --upgrade to force replacement.\u001b[0m\n",
      "\u001b[33mTarget directory /home/spark/shared/user-libs/python3.6/idna-2.8.dist-info already exists. Specify --upgrade to force replacement.\u001b[0m\n",
      "\u001b[33mTarget directory /home/spark/shared/user-libs/python3.6/urllib3-1.25.6.dist-info already exists. Specify --upgrade to force replacement.\u001b[0m\n",
      "\u001b[33mTarget directory /home/spark/shared/user-libs/python3.6/requests-2.22.0.dist-info already exists. Specify --upgrade to force replacement.\u001b[0m\n",
      "\u001b[33mTarget directory /home/spark/shared/user-libs/python3.6/chardet-3.0.4.dist-info already exists. Specify --upgrade to force replacement.\u001b[0m\n",
      "\u001b[33mTarget directory /home/spark/shared/user-libs/python3.6/certifi-2019.9.11.dist-info already exists. Specify --upgrade to force replacement.\u001b[0m\n",
      "\u001b[33mTarget directory /home/spark/shared/user-libs/python3.6/idna already exists. Specify --upgrade to force replacement.\u001b[0m\n",
      "\u001b[33mTarget directory /home/spark/shared/user-libs/python3.6/setuptools-41.2.0.dist-info already exists. Specify --upgrade to force replacement.\u001b[0m\n",
      "\u001b[33mTarget directory /home/spark/shared/user-libs/python3.6/six-1.12.0.dist-info already exists. Specify --upgrade to force replacement.\u001b[0m\n",
      "\u001b[33mTarget directory /home/spark/shared/user-libs/python3.6/urllib3 already exists. Specify --upgrade to force replacement.\u001b[0m\n",
      "\u001b[33mTarget directory /home/spark/shared/user-libs/python3.6/six.py already exists. Specify --upgrade to force replacement.\u001b[0m\n",
      "\u001b[33mTarget directory /home/spark/shared/user-libs/python3.6/setuptools already exists. Specify --upgrade to force replacement.\u001b[0m\n",
      "\u001b[33mTarget directory /home/spark/shared/user-libs/python3.6/__pycache__ already exists. Specify --upgrade to force replacement.\u001b[0m\n",
      "\u001b[33mTarget directory /home/spark/shared/user-libs/python3.6/chardet already exists. Specify --upgrade to force replacement.\u001b[0m\n",
      "\u001b[33mTarget directory /home/spark/shared/user-libs/python3.6/easy_install.py already exists. Specify --upgrade to force replacement.\u001b[0m\n",
      "\u001b[33mTarget directory /home/spark/shared/user-libs/python3.6/certifi already exists. Specify --upgrade to force replacement.\u001b[0m\n",
      "\u001b[33mTarget directory /home/spark/shared/user-libs/python3.6/bin already exists. Specify --upgrade to force replacement.\u001b[0m\n",
      "Successfully installed astunparse-1.6.2 certifi-2019.9.11 chardet-3.0.4 colour-0.1.5 geojson-2.5.0 idna-2.8 lxml-4.4.1 markdown-3.1.1 mpld3-0.3 pixiedust-1.1.17 requests-2.22.0 setuptools-41.2.0 six-1.12.0 urllib3-1.25.6 wheel-0.33.6\n"
     ]
    }
   ],
   "source": [
    "!rm -rf /home/spark/shared/user-libs/python3.6*\n",
    "\n",
    "!pip install --upgrade ibm-ai-openscale --no-cache | tail -n 1\n",
    "!pip install --upgrade watson-machine-learning-client | tail -n 1\n",
    "!pip install --upgrade numpy --no-cache | tail -n 1\n",
    "!pip install --upgrade SciPy --no-cache | tail -n 1\n",
    "!pip install lime --no-cache | tail -n 1\n",
    "!pip install pixiedust | tail -n 1"
   ]
  },
  {
   "cell_type": "code",
   "execution_count": 3,
   "metadata": {},
   "outputs": [
    {
     "name": "stdout",
     "output_type": "stream",
     "text": [
      "Name: ibm-ai-openscale\r\n",
      "Version: 2.1.17\r\n",
      "Summary: Python SDK for IBM Watson OpenScale\r\n",
      "Home-page: http://ai-openscale-python-client.mybluemix.net\r\n",
      "Author: IBM\r\n",
      "Author-email: lukasz.cmielowski@pl.ibm.com, maria.oleszkiewicz@pl.ibm.com, wojciech.sobala@pl.ibm.com\r\n",
      "License: BSD\r\n",
      "Location: /home/spark/shared/user-libs/python3.6\r\n",
      "Requires: pandas, requests, tabulate, h5py\r\n",
      "Required-by: \r\n"
     ]
    }
   ],
   "source": [
    "! pip show ibm-ai-openscale"
   ]
  },
  {
   "cell_type": "markdown",
   "metadata": {},
   "source": [
    "## Provision services and configure credentials"
   ]
  },
  {
   "cell_type": "markdown",
   "metadata": {},
   "source": [
    "If you have not already, provision an instance of IBM Watson OpenScale using the [OpenScale link in the Cloud catalog](https://cloud.ibm.com/catalog/services/watson-openscale)."
   ]
  },
  {
   "cell_type": "markdown",
   "metadata": {},
   "source": [
    "Your Cloud API key can be generated by going to the [**Users** section of the Cloud console](https://cloud.ibm.com/iam#/users). From that page, click your name, scroll down to the **API Keys** section, and click **Create an IBM Cloud API key**. Give your key a name and click **Create**, then copy the created key and paste it below."
   ]
  },
  {
   "cell_type": "markdown",
   "metadata": {},
   "source": [
    "**NOTE:** You can also get OpenScale `API_KEY` using IBM CLOUD CLI.\n",
    "\n",
    "How to install IBM Cloud (bluemix) console: [instruction](https://console.bluemix.net/docs/cli/reference/ibmcloud/download_cli.html#install_use)\n",
    "\n",
    "How to get api key using console:\n",
    "```\n",
    "bx login --sso\n",
    "bx iam api-key-create 'my_key'\n",
    "```"
   ]
  },
  {
   "cell_type": "code",
   "execution_count": 4,
   "metadata": {
    "scrolled": true
   },
   "outputs": [],
   "source": [
    "CLOUD_API_KEY = \"PASTE HERE\""
   ]
  },
  {
   "cell_type": "code",
   "execution_count": 5,
   "metadata": {},
   "outputs": [],
   "source": [
    "# The code was removed by Watson Studio for sharing."
   ]
  },
  {
   "cell_type": "markdown",
   "metadata": {},
   "source": [
    "Next you will need credentials for Watson Machine Learning. If you already have a WML instance, you may use credentials for it. To provision a new Lite instance of WML, use the [Cloud catalog](https://cloud.ibm.com/catalog/services/machine-learning), give your service a name, and click **Create**. Once your instance is created, click the **Service Credentials** link on the left side of the screen. Click the **New credential** button, give your credentials a name, and click **Add**. Your new credentials can be accessed by clicking the **View credentials** button. Copy and paste your WML credentials into the cell below."
   ]
  },
  {
   "cell_type": "code",
   "execution_count": 6,
   "metadata": {
    "scrolled": true
   },
   "outputs": [],
   "source": [
    "WML_CREDENTIALS = {\n",
    "    \"apikey\": \"key\",\n",
    "    \"iam_apikey_description\": \"description\",\n",
    "    \"iam_apikey_name\": \"auto-generated-apikey\",\n",
    "    \"iam_role_crn\": \"crn:v1:bluemix:public:iam::::serviceRole:Writer\",\n",
    "    \"iam_serviceid_crn\": \"crn:v1:bluemix:public:iam-identity::\",\n",
    "    \"instance_id\": \"instance_id\",\n",
    "    \"password\": \"password\",\n",
    "    \"url\": \"https://us-south.ml.cloud.ibm.com\",\n",
    "    \"username\": \"username\"\n",
    "}"
   ]
  },
  {
   "cell_type": "code",
   "execution_count": 7,
   "metadata": {},
   "outputs": [],
   "source": [
    "# The code was removed by Watson Studio for sharing."
   ]
  },
  {
   "cell_type": "markdown",
   "metadata": {},
   "source": [
    "This tutorial can use Databases for PostgreSQL, Db2 Warehouse, or a free internal verison of PostgreSQL to create a datamart for OpenScale.\n",
    "\n",
    "If you have previously configured OpenScale, it will use your existing datamart, and not interfere with any models you are currently monitoring. Do not update the cell below.\n",
    "\n",
    "If you do not have a paid Cloud account or would prefer not to provision this paid service, you may use the free internal PostgreSQL service with OpenScale. Do not update the cell below.\n",
    "\n",
    "To provision a new instance of Db2 Warehouse, locate [Db2 Warehouse in the Cloud catalog](https://cloud.ibm.com/catalog/services/db2-warehouse), give your service a name, and click **Create**. Once your instance is created, click the **Service Credentials** link on the left side of the screen. Click the **New credential** button, give your credentials a name, and click **Add**. Your new credentials can be accessed by clicking the **View credentials** button. Copy and paste your Db2 Warehouse credentials into the cell below.\n",
    "\n",
    "To provision a new instance of Databases for PostgreSQL, locate [Databases for PostgreSQL in the Cloud catalog](https://cloud.ibm.com/catalog/services/databases-for-postgresql), give your service a name, and click **Create**. Once your instance is created, click the **Service Credentials** link on the left side of the screen. Click the **New credential** button, give your credentials a name, and click **Add**. Your new credentials can be accessed by clicking the **View credentials** button. Copy and paste your Databases for PostgreSQL credentials into the cell below."
   ]
  },
  {
   "cell_type": "code",
   "execution_count": 8,
   "metadata": {
    "scrolled": true
   },
   "outputs": [],
   "source": [
    "DB_CREDENTIALS = None"
   ]
  },
  {
   "cell_type": "markdown",
   "metadata": {},
   "source": [
    "__If you previously configured OpenScale to use the free internal version of PostgreSQL, you can switch to a new datamart using a paid database service.__ If you would like to delete the internal PostgreSQL configuration and create a new one using service credentials supplied in the cell above, set the __KEEP_MY_INTERNAL_POSTGRES__ variable below to __False__ below. In this case, the notebook will remove your existing internal PostgreSQL datamart and create a new one with the supplied credentials. __*NO DATA MIGRATION WILL OCCUR.*__"
   ]
  },
  {
   "cell_type": "code",
   "execution_count": 9,
   "metadata": {},
   "outputs": [],
   "source": [
    "KEEP_MY_INTERNAL_POSTGRES = True"
   ]
  },
  {
   "cell_type": "markdown",
   "metadata": {},
   "source": [
    "## Run the notebook\n",
    "\n",
    "At this point, the notebook is ready to run. You can either run the cells one at a time, or click the **Kernel** option above and select **Restart and Run All** to run all the cells."
   ]
  },
  {
   "cell_type": "markdown",
   "metadata": {},
   "source": [
    "# Model building and deployment <a name=\"model\"></a>"
   ]
  },
  {
   "cell_type": "markdown",
   "metadata": {},
   "source": [
    "In this section you will learn how to train Spark MLLib model and next deploy it as web-service using Watson Machine Learning service."
   ]
  },
  {
   "cell_type": "markdown",
   "metadata": {},
   "source": [
    "## Load the training data from github"
   ]
  },
  {
   "cell_type": "code",
   "execution_count": 2,
   "metadata": {
    "scrolled": true
   },
   "outputs": [
    {
     "name": "stderr",
     "output_type": "stream",
     "text": [
      "'ls' is not recognized as an internal or external command,\n",
      "operable program or batch file.\n"
     ]
    }
   ],
   "source": [
    "from IPython.utils import io\n",
    "\n",
    "with io.capture_output() as captured:\n",
    "    !wget https://raw.githubusercontent.com/GauravGoswami/ai-openscale-tutorials/master/assets/manipulated_data/updated_risk_training_data_biased.csv -O updated_risk_training_data_biased.csv\n",
    "!ls -lh updated_risk_training_data_biased.csv"
   ]
  },
  {
   "cell_type": "code",
   "execution_count": 3,
   "metadata": {
    "scrolled": true
   },
   "outputs": [
    {
     "ename": "EmptyDataError",
     "evalue": "No columns to parse from file",
     "output_type": "error",
     "traceback": [
      "\u001b[1;31m---------------------------------------------------------------------------\u001b[0m",
      "\u001b[1;31mEmptyDataError\u001b[0m                            Traceback (most recent call last)",
      "\u001b[1;32m<ipython-input-3-b695568dbf84>\u001b[0m in \u001b[0;36m<module>\u001b[1;34m()\u001b[0m\n\u001b[0;32m      5\u001b[0m \u001b[1;33m\u001b[0m\u001b[0m\n\u001b[0;32m      6\u001b[0m \u001b[0mspark\u001b[0m \u001b[1;33m=\u001b[0m \u001b[0mSparkSession\u001b[0m\u001b[1;33m.\u001b[0m\u001b[0mbuilder\u001b[0m\u001b[1;33m.\u001b[0m\u001b[0mgetOrCreate\u001b[0m\u001b[1;33m(\u001b[0m\u001b[1;33m)\u001b[0m\u001b[1;33m\u001b[0m\u001b[0m\n\u001b[1;32m----> 7\u001b[1;33m \u001b[0mpd_data\u001b[0m \u001b[1;33m=\u001b[0m \u001b[0mpd\u001b[0m\u001b[1;33m.\u001b[0m\u001b[0mread_csv\u001b[0m\u001b[1;33m(\u001b[0m\u001b[1;34m\"updated_risk_training_data_biased.csv\"\u001b[0m\u001b[1;33m,\u001b[0m \u001b[0msep\u001b[0m\u001b[1;33m=\u001b[0m\u001b[1;34m\",\"\u001b[0m\u001b[1;33m,\u001b[0m \u001b[0mheader\u001b[0m\u001b[1;33m=\u001b[0m\u001b[1;36m0\u001b[0m\u001b[1;33m)\u001b[0m\u001b[1;33m\u001b[0m\u001b[0m\n\u001b[0m\u001b[0;32m      8\u001b[0m \u001b[0mdf_data\u001b[0m \u001b[1;33m=\u001b[0m \u001b[0mspark\u001b[0m\u001b[1;33m.\u001b[0m\u001b[0mread\u001b[0m\u001b[1;33m.\u001b[0m\u001b[0mcsv\u001b[0m\u001b[1;33m(\u001b[0m\u001b[0mpath\u001b[0m\u001b[1;33m=\u001b[0m\u001b[1;34m\"updated_risk_training_data_biased.csv\"\u001b[0m\u001b[1;33m,\u001b[0m \u001b[0msep\u001b[0m\u001b[1;33m=\u001b[0m\u001b[1;34m\",\"\u001b[0m\u001b[1;33m,\u001b[0m \u001b[0mheader\u001b[0m\u001b[1;33m=\u001b[0m\u001b[1;32mTrue\u001b[0m\u001b[1;33m,\u001b[0m \u001b[0minferSchema\u001b[0m\u001b[1;33m=\u001b[0m\u001b[1;32mTrue\u001b[0m\u001b[1;33m)\u001b[0m\u001b[1;33m\u001b[0m\u001b[0m\n\u001b[0;32m      9\u001b[0m \u001b[0mdf_data\u001b[0m\u001b[1;33m.\u001b[0m\u001b[0mhead\u001b[0m\u001b[1;33m(\u001b[0m\u001b[1;33m)\u001b[0m\u001b[1;33m\u001b[0m\u001b[0m\n",
      "\u001b[1;32m~\\Anaconda3\\envs\\icp4d\\lib\\site-packages\\pandas\\io\\parsers.py\u001b[0m in \u001b[0;36mparser_f\u001b[1;34m(filepath_or_buffer, sep, delimiter, header, names, index_col, usecols, squeeze, prefix, mangle_dupe_cols, dtype, engine, converters, true_values, false_values, skipinitialspace, skiprows, skipfooter, nrows, na_values, keep_default_na, na_filter, verbose, skip_blank_lines, parse_dates, infer_datetime_format, keep_date_col, date_parser, dayfirst, iterator, chunksize, compression, thousands, decimal, lineterminator, quotechar, quoting, doublequote, escapechar, comment, encoding, dialect, tupleize_cols, error_bad_lines, warn_bad_lines, delim_whitespace, low_memory, memory_map, float_precision)\u001b[0m\n\u001b[0;32m    700\u001b[0m                     skip_blank_lines=skip_blank_lines)\n\u001b[0;32m    701\u001b[0m \u001b[1;33m\u001b[0m\u001b[0m\n\u001b[1;32m--> 702\u001b[1;33m         \u001b[1;32mreturn\u001b[0m \u001b[0m_read\u001b[0m\u001b[1;33m(\u001b[0m\u001b[0mfilepath_or_buffer\u001b[0m\u001b[1;33m,\u001b[0m \u001b[0mkwds\u001b[0m\u001b[1;33m)\u001b[0m\u001b[1;33m\u001b[0m\u001b[0m\n\u001b[0m\u001b[0;32m    703\u001b[0m \u001b[1;33m\u001b[0m\u001b[0m\n\u001b[0;32m    704\u001b[0m     \u001b[0mparser_f\u001b[0m\u001b[1;33m.\u001b[0m\u001b[0m__name__\u001b[0m \u001b[1;33m=\u001b[0m \u001b[0mname\u001b[0m\u001b[1;33m\u001b[0m\u001b[0m\n",
      "\u001b[1;32m~\\Anaconda3\\envs\\icp4d\\lib\\site-packages\\pandas\\io\\parsers.py\u001b[0m in \u001b[0;36m_read\u001b[1;34m(filepath_or_buffer, kwds)\u001b[0m\n\u001b[0;32m    427\u001b[0m \u001b[1;33m\u001b[0m\u001b[0m\n\u001b[0;32m    428\u001b[0m     \u001b[1;31m# Create the parser.\u001b[0m\u001b[1;33m\u001b[0m\u001b[1;33m\u001b[0m\u001b[0m\n\u001b[1;32m--> 429\u001b[1;33m     \u001b[0mparser\u001b[0m \u001b[1;33m=\u001b[0m \u001b[0mTextFileReader\u001b[0m\u001b[1;33m(\u001b[0m\u001b[0mfilepath_or_buffer\u001b[0m\u001b[1;33m,\u001b[0m \u001b[1;33m**\u001b[0m\u001b[0mkwds\u001b[0m\u001b[1;33m)\u001b[0m\u001b[1;33m\u001b[0m\u001b[0m\n\u001b[0m\u001b[0;32m    430\u001b[0m \u001b[1;33m\u001b[0m\u001b[0m\n\u001b[0;32m    431\u001b[0m     \u001b[1;32mif\u001b[0m \u001b[0mchunksize\u001b[0m \u001b[1;32mor\u001b[0m \u001b[0miterator\u001b[0m\u001b[1;33m:\u001b[0m\u001b[1;33m\u001b[0m\u001b[0m\n",
      "\u001b[1;32m~\\Anaconda3\\envs\\icp4d\\lib\\site-packages\\pandas\\io\\parsers.py\u001b[0m in \u001b[0;36m__init__\u001b[1;34m(self, f, engine, **kwds)\u001b[0m\n\u001b[0;32m    893\u001b[0m             \u001b[0mself\u001b[0m\u001b[1;33m.\u001b[0m\u001b[0moptions\u001b[0m\u001b[1;33m[\u001b[0m\u001b[1;34m'has_index_names'\u001b[0m\u001b[1;33m]\u001b[0m \u001b[1;33m=\u001b[0m \u001b[0mkwds\u001b[0m\u001b[1;33m[\u001b[0m\u001b[1;34m'has_index_names'\u001b[0m\u001b[1;33m]\u001b[0m\u001b[1;33m\u001b[0m\u001b[0m\n\u001b[0;32m    894\u001b[0m \u001b[1;33m\u001b[0m\u001b[0m\n\u001b[1;32m--> 895\u001b[1;33m         \u001b[0mself\u001b[0m\u001b[1;33m.\u001b[0m\u001b[0m_make_engine\u001b[0m\u001b[1;33m(\u001b[0m\u001b[0mself\u001b[0m\u001b[1;33m.\u001b[0m\u001b[0mengine\u001b[0m\u001b[1;33m)\u001b[0m\u001b[1;33m\u001b[0m\u001b[0m\n\u001b[0m\u001b[0;32m    896\u001b[0m \u001b[1;33m\u001b[0m\u001b[0m\n\u001b[0;32m    897\u001b[0m     \u001b[1;32mdef\u001b[0m \u001b[0mclose\u001b[0m\u001b[1;33m(\u001b[0m\u001b[0mself\u001b[0m\u001b[1;33m)\u001b[0m\u001b[1;33m:\u001b[0m\u001b[1;33m\u001b[0m\u001b[0m\n",
      "\u001b[1;32m~\\Anaconda3\\envs\\icp4d\\lib\\site-packages\\pandas\\io\\parsers.py\u001b[0m in \u001b[0;36m_make_engine\u001b[1;34m(self, engine)\u001b[0m\n\u001b[0;32m   1120\u001b[0m     \u001b[1;32mdef\u001b[0m \u001b[0m_make_engine\u001b[0m\u001b[1;33m(\u001b[0m\u001b[0mself\u001b[0m\u001b[1;33m,\u001b[0m \u001b[0mengine\u001b[0m\u001b[1;33m=\u001b[0m\u001b[1;34m'c'\u001b[0m\u001b[1;33m)\u001b[0m\u001b[1;33m:\u001b[0m\u001b[1;33m\u001b[0m\u001b[0m\n\u001b[0;32m   1121\u001b[0m         \u001b[1;32mif\u001b[0m \u001b[0mengine\u001b[0m \u001b[1;33m==\u001b[0m \u001b[1;34m'c'\u001b[0m\u001b[1;33m:\u001b[0m\u001b[1;33m\u001b[0m\u001b[0m\n\u001b[1;32m-> 1122\u001b[1;33m             \u001b[0mself\u001b[0m\u001b[1;33m.\u001b[0m\u001b[0m_engine\u001b[0m \u001b[1;33m=\u001b[0m \u001b[0mCParserWrapper\u001b[0m\u001b[1;33m(\u001b[0m\u001b[0mself\u001b[0m\u001b[1;33m.\u001b[0m\u001b[0mf\u001b[0m\u001b[1;33m,\u001b[0m \u001b[1;33m**\u001b[0m\u001b[0mself\u001b[0m\u001b[1;33m.\u001b[0m\u001b[0moptions\u001b[0m\u001b[1;33m)\u001b[0m\u001b[1;33m\u001b[0m\u001b[0m\n\u001b[0m\u001b[0;32m   1123\u001b[0m         \u001b[1;32melse\u001b[0m\u001b[1;33m:\u001b[0m\u001b[1;33m\u001b[0m\u001b[0m\n\u001b[0;32m   1124\u001b[0m             \u001b[1;32mif\u001b[0m \u001b[0mengine\u001b[0m \u001b[1;33m==\u001b[0m \u001b[1;34m'python'\u001b[0m\u001b[1;33m:\u001b[0m\u001b[1;33m\u001b[0m\u001b[0m\n",
      "\u001b[1;32m~\\Anaconda3\\envs\\icp4d\\lib\\site-packages\\pandas\\io\\parsers.py\u001b[0m in \u001b[0;36m__init__\u001b[1;34m(self, src, **kwds)\u001b[0m\n\u001b[0;32m   1851\u001b[0m         \u001b[0mkwds\u001b[0m\u001b[1;33m[\u001b[0m\u001b[1;34m'usecols'\u001b[0m\u001b[1;33m]\u001b[0m \u001b[1;33m=\u001b[0m \u001b[0mself\u001b[0m\u001b[1;33m.\u001b[0m\u001b[0musecols\u001b[0m\u001b[1;33m\u001b[0m\u001b[0m\n\u001b[0;32m   1852\u001b[0m \u001b[1;33m\u001b[0m\u001b[0m\n\u001b[1;32m-> 1853\u001b[1;33m         \u001b[0mself\u001b[0m\u001b[1;33m.\u001b[0m\u001b[0m_reader\u001b[0m \u001b[1;33m=\u001b[0m \u001b[0mparsers\u001b[0m\u001b[1;33m.\u001b[0m\u001b[0mTextReader\u001b[0m\u001b[1;33m(\u001b[0m\u001b[0msrc\u001b[0m\u001b[1;33m,\u001b[0m \u001b[1;33m**\u001b[0m\u001b[0mkwds\u001b[0m\u001b[1;33m)\u001b[0m\u001b[1;33m\u001b[0m\u001b[0m\n\u001b[0m\u001b[0;32m   1854\u001b[0m         \u001b[0mself\u001b[0m\u001b[1;33m.\u001b[0m\u001b[0munnamed_cols\u001b[0m \u001b[1;33m=\u001b[0m \u001b[0mself\u001b[0m\u001b[1;33m.\u001b[0m\u001b[0m_reader\u001b[0m\u001b[1;33m.\u001b[0m\u001b[0munnamed_cols\u001b[0m\u001b[1;33m\u001b[0m\u001b[0m\n\u001b[0;32m   1855\u001b[0m \u001b[1;33m\u001b[0m\u001b[0m\n",
      "\u001b[1;32mpandas\\_libs\\parsers.pyx\u001b[0m in \u001b[0;36mpandas._libs.parsers.TextReader.__cinit__\u001b[1;34m()\u001b[0m\n",
      "\u001b[1;31mEmptyDataError\u001b[0m: No columns to parse from file"
     ]
    }
   ],
   "source": [
    "from pyspark.sql import SparkSession\n",
    "import pandas as pd\n",
    "import json\n",
    "import datetime\n",
    "\n",
    "spark = SparkSession.builder.getOrCreate()\n",
    "pd_data = pd.read_csv(\"updated_risk_training_data_biased.csv\", sep=\",\", header=0)\n",
    "df_data = spark.read.csv(path=\"updated_risk_training_data_biased.csv\", sep=\",\", header=True, inferSchema=True)\n",
    "df_data.head()"
   ]
  },
  {
   "cell_type": "markdown",
   "metadata": {},
   "source": [
    "## Explore data"
   ]
  },
  {
   "cell_type": "code",
   "execution_count": null,
   "metadata": {
    "scrolled": true
   },
   "outputs": [],
   "source": [
    "df_data.printSchema()"
   ]
  },
  {
   "cell_type": "code",
   "execution_count": null,
   "metadata": {
    "scrolled": true
   },
   "outputs": [],
   "source": [
    "print(\"Number of records: \" + str(df_data.count()))"
   ]
  },
  {
   "cell_type": "markdown",
   "metadata": {},
   "source": [
    "## Visualize data with pixiedust"
   ]
  },
  {
   "cell_type": "code",
   "execution_count": 14,
   "metadata": {},
   "outputs": [
    {
     "name": "stdout",
     "output_type": "stream",
     "text": [
      "Pixiedust database opened successfully\n",
      "Table VERSION_TRACKER created successfully\n",
      "Table METRICS_TRACKER created successfully\n",
      "\n",
      "Share anonymous install statistics? (opt-out instructions)\n",
      "\n",
      "PixieDust will record metadata on its environment the next time the package is installed or updated. The data is anonymized and aggregated to help plan for future releases, and records only the following values:\n",
      "\n",
      "{\n",
      "   \"data_sent\": currentDate,\n",
      "   \"runtime\": \"python\",\n",
      "   \"application_version\": currentPixiedustVersion,\n",
      "   \"space_id\": nonIdentifyingUniqueId,\n",
      "   \"config\": {\n",
      "       \"repository_id\": \"https://github.com/ibm-watson-data-lab/pixiedust\",\n",
      "       \"target_runtimes\": [\"Data Science Experience\"],\n",
      "       \"event_id\": \"web\",\n",
      "       \"event_organizer\": \"dev-journeys\"\n",
      "   }\n",
      "}\n",
      "You can opt out by calling pixiedust.optOut() in a new cell.\n"
     ]
    },
    {
     "data": {
      "text/html": [
       "\n",
       "        <div style=\"margin:10px\">\n",
       "            <a href=\"https://github.com/ibm-watson-data-lab/pixiedust\" target=\"_new\">\n",
       "                <img src=\"https://github.com/ibm-watson-data-lab/pixiedust/raw/master/docs/_static/pd_icon32.png\" style=\"float:left;margin-right:10px\"/>\n",
       "            </a>\n",
       "            <span>Pixiedust version 1.1.17</span>\n",
       "        </div>\n",
       "        "
      ],
      "text/plain": [
       "<IPython.core.display.HTML object>"
      ]
     },
     "metadata": {},
     "output_type": "display_data"
    },
    {
     "name": "stdout",
     "output_type": "stream",
     "text": [
      "\u001b[31mPixiedust runtime updated. Please restart kernel\u001b[0m\n",
      "Table SPARK_PACKAGES created successfully\n",
      "Table USER_PREFERENCES created successfully\n",
      "Table service_connections created successfully\n"
     ]
    }
   ],
   "source": [
    "import pixiedust"
   ]
  },
  {
   "cell_type": "code",
   "execution_count": 119,
   "metadata": {
    "pixiedust": {
     "displayParams": {
      "aggregation": "COUNT",
      "chartsize": "50",
      "handlerId": "pieChart",
      "keyFields": "Risk",
      "mpld3": "false",
      "rendererId": "bokeh"
     }
    }
   },
   "outputs": [
    {
     "data": {
      "text/html": [
       "<style type=\"text/css\">.pd_warning{display:none;}</style><div class=\"pd_warning\"><em>Hey, there's something awesome here! To see it, open this notebook outside GitHub, in a viewer like Jupyter</em></div>\n",
       "        <div class=\"pd_save is-viewer-good\" style=\"padding-right:10px;text-align: center;line-height:initial !important;font-size: xx-large;font-weight: 500;color: coral;\">\n",
       "            \n",
       "        </div>\n",
       "    <div id=\"chartFigure3428a866\" class=\"pd_save is-viewer-good\" style=\"overflow-x:auto\">\n",
       "            \n",
       "                    \n",
       "                            <center><img style=\"max-width:initial !important\" src=\"data:image/png;base64,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\" class=\"pd_save\"></center>\n",
       "                        \n",
       "                    \n",
       "                \n",
       "        </div>"
      ],
      "text/plain": [
       "<IPython.core.display.HTML object>"
      ]
     },
     "metadata": {},
     "output_type": "display_data"
    }
   ],
   "source": [
    "display(df_data)"
   ]
  },
  {
   "cell_type": "markdown",
   "metadata": {},
   "source": [
    "## Create a model"
   ]
  },
  {
   "cell_type": "code",
   "execution_count": 16,
   "metadata": {
    "scrolled": true
   },
   "outputs": [
    {
     "name": "stdout",
     "output_type": "stream",
     "text": [
      "Number of records for training: 4016\n",
      "Number of records for evaluation: 984\n",
      "root\n",
      " |-- CheckingStatus: string (nullable = true)\n",
      " |-- LoanDuration: integer (nullable = true)\n",
      " |-- CreditHistory: string (nullable = true)\n",
      " |-- LoanPurpose: string (nullable = true)\n",
      " |-- LoanAmount: integer (nullable = true)\n",
      " |-- ExistingSavings: string (nullable = true)\n",
      " |-- EmploymentDuration: string (nullable = true)\n",
      " |-- InstallmentPercent: integer (nullable = true)\n",
      " |-- Sex: string (nullable = true)\n",
      " |-- OthersOnLoan: string (nullable = true)\n",
      " |-- CurrentResidenceDuration: integer (nullable = true)\n",
      " |-- OwnsProperty: string (nullable = true)\n",
      " |-- Age: integer (nullable = true)\n",
      " |-- InstallmentPlans: string (nullable = true)\n",
      " |-- Housing: string (nullable = true)\n",
      " |-- ExistingCreditsCount: integer (nullable = true)\n",
      " |-- Job: string (nullable = true)\n",
      " |-- Dependents: integer (nullable = true)\n",
      " |-- Telephone: string (nullable = true)\n",
      " |-- ForeignWorker: string (nullable = true)\n",
      " |-- Risk: string (nullable = true)\n",
      "\n"
     ]
    }
   ],
   "source": [
    "spark_df = df_data\n",
    "(train_data, test_data) = spark_df.randomSplit([0.8, 0.2], 24)\n",
    "\n",
    "MODEL_NAME = \"Spark German Risk Model - Final\"\n",
    "DEPLOYMENT_NAME = \"Spark German Risk Deployment - Final\"\n",
    "\n",
    "print(\"Number of records for training: \" + str(train_data.count()))\n",
    "print(\"Number of records for evaluation: \" + str(test_data.count()))\n",
    "\n",
    "spark_df.printSchema()"
   ]
  },
  {
   "cell_type": "markdown",
   "metadata": {},
   "source": [
    "The code below creates a Random Forest Classifier with Spark, setting up string indexers for the categorical features and the label column. Finally, this notebook creates a pipeline including the indexers and the model, and does an initial Area Under ROC evaluation of the model."
   ]
  },
  {
   "cell_type": "code",
   "execution_count": 17,
   "metadata": {
    "scrolled": true
   },
   "outputs": [],
   "source": [
    "from pyspark.ml.feature import OneHotEncoder, StringIndexer, IndexToString, VectorAssembler\n",
    "from pyspark.ml.evaluation import BinaryClassificationEvaluator\n",
    "from pyspark.ml import Pipeline, Model\n",
    "\n",
    "si_CheckingStatus = StringIndexer(inputCol = 'CheckingStatus', outputCol = 'CheckingStatus_IX')\n",
    "si_CreditHistory = StringIndexer(inputCol = 'CreditHistory', outputCol = 'CreditHistory_IX')\n",
    "si_LoanPurpose = StringIndexer(inputCol = 'LoanPurpose', outputCol = 'LoanPurpose_IX')\n",
    "si_ExistingSavings = StringIndexer(inputCol = 'ExistingSavings', outputCol = 'ExistingSavings_IX')\n",
    "si_EmploymentDuration = StringIndexer(inputCol = 'EmploymentDuration', outputCol = 'EmploymentDuration_IX')\n",
    "si_Sex = StringIndexer(inputCol = 'Sex', outputCol = 'Sex_IX')\n",
    "si_OthersOnLoan = StringIndexer(inputCol = 'OthersOnLoan', outputCol = 'OthersOnLoan_IX')\n",
    "si_OwnsProperty = StringIndexer(inputCol = 'OwnsProperty', outputCol = 'OwnsProperty_IX')\n",
    "si_InstallmentPlans = StringIndexer(inputCol = 'InstallmentPlans', outputCol = 'InstallmentPlans_IX')\n",
    "si_Housing = StringIndexer(inputCol = 'Housing', outputCol = 'Housing_IX')\n",
    "si_Job = StringIndexer(inputCol = 'Job', outputCol = 'Job_IX')\n",
    "si_Telephone = StringIndexer(inputCol = 'Telephone', outputCol = 'Telephone_IX')\n",
    "si_ForeignWorker = StringIndexer(inputCol = 'ForeignWorker', outputCol = 'ForeignWorker_IX')"
   ]
  },
  {
   "cell_type": "code",
   "execution_count": 18,
   "metadata": {
    "scrolled": true
   },
   "outputs": [],
   "source": [
    "si_Label = StringIndexer(inputCol=\"Risk\", outputCol=\"label\").fit(spark_df)\n",
    "label_converter = IndexToString(inputCol=\"prediction\", outputCol=\"predictedLabel\", labels=si_Label.labels)"
   ]
  },
  {
   "cell_type": "code",
   "execution_count": 19,
   "metadata": {
    "scrolled": true
   },
   "outputs": [],
   "source": [
    "va_features = VectorAssembler(inputCols=[\"CheckingStatus_IX\", \"CreditHistory_IX\", \"LoanPurpose_IX\", \"ExistingSavings_IX\", \"EmploymentDuration_IX\", \"Sex_IX\", \\\n",
    "                                         \"OthersOnLoan_IX\", \"OwnsProperty_IX\", \"InstallmentPlans_IX\", \"Housing_IX\", \"Job_IX\", \"Telephone_IX\", \"ForeignWorker_IX\", \\\n",
    "                                         \"LoanDuration\", \"LoanAmount\", \"InstallmentPercent\", \"CurrentResidenceDuration\", \"LoanDuration\", \"Age\", \"ExistingCreditsCount\", \\\n",
    "                                         \"Dependents\"], outputCol=\"features\")"
   ]
  },
  {
   "cell_type": "code",
   "execution_count": 20,
   "metadata": {
    "scrolled": true
   },
   "outputs": [],
   "source": [
    "from pyspark.ml.classification import RandomForestClassifier\n",
    "\n",
    "classifier = RandomForestClassifier(featuresCol=\"features\")\n",
    "pipeline = Pipeline(stages=[si_CheckingStatus, si_CreditHistory, si_EmploymentDuration, si_ExistingSavings, si_ForeignWorker, si_Housing, si_InstallmentPlans, si_Job, si_LoanPurpose, si_OthersOnLoan,\\\n",
    "                               si_OwnsProperty, si_Sex, si_Telephone, si_Label, va_features, classifier, label_converter])\n",
    "model = pipeline.fit(train_data)"
   ]
  },
  {
   "cell_type": "code",
   "execution_count": 21,
   "metadata": {
    "scrolled": true
   },
   "outputs": [
    {
     "name": "stdout",
     "output_type": "stream",
     "text": [
      "areaUnderROC = 0.712783\n"
     ]
    }
   ],
   "source": [
    "predictions = model.transform(test_data)\n",
    "evaluatorDT = BinaryClassificationEvaluator(rawPredictionCol=\"prediction\")\n",
    "area_under_curve = evaluatorDT.evaluate(predictions)\n",
    "\n",
    "print(\"areaUnderROC = %g\" % area_under_curve)"
   ]
  },
  {
   "cell_type": "markdown",
   "metadata": {},
   "source": [
    "## Publish the model"
   ]
  },
  {
   "cell_type": "markdown",
   "metadata": {},
   "source": [
    "In this section, the notebook uses the supplied Watson Machine Learning credentials to save the model (including the pipeline) to the WML instance. Previous versions of the model are removed so that the notebook can be run again, resetting all data for another demo."
   ]
  },
  {
   "cell_type": "code",
   "execution_count": 22,
   "metadata": {
    "scrolled": true
   },
   "outputs": [
    {
     "name": "stderr",
     "output_type": "stream",
     "text": [
      "/home/spark/shared/user-libs/python3.6/sklearn/externals/joblib/__init__.py:15: DeprecationWarning: sklearn.externals.joblib is deprecated in 0.21 and will be removed in 0.23. Please import this functionality directly from joblib, which can be installed with: pip install joblib. If this warning is raised when loading pickled models, you may need to re-serialize those models with scikit-learn 0.21+.\n",
      "  warnings.warn(msg, category=DeprecationWarning)\n",
      "WARNING:matplotlib.font_manager:findfont: Font family ['serif'] not found. Falling back to DejaVu Sans.\n"
     ]
    }
   ],
   "source": [
    "from watson_machine_learning_client import WatsonMachineLearningAPIClient\n",
    "import json\n",
    "\n",
    "wml_client = WatsonMachineLearningAPIClient(WML_CREDENTIALS)"
   ]
  },
  {
   "cell_type": "markdown",
   "metadata": {},
   "source": [
    "### Remove existing model and deployment"
   ]
  },
  {
   "cell_type": "code",
   "execution_count": 23,
   "metadata": {
    "scrolled": true
   },
   "outputs": [
    {
     "name": "stdout",
     "output_type": "stream",
     "text": [
      "Deleting deployment id 8e311371-9b43-4502-9a10-921c7ce70059\n",
      "Deleting model id 11353371-0c22-4bc3-916b-7bab4c3c29a9\n",
      "------------------------------------  -----------------------------  ------------------------  -----------------\n",
      "GUID                                  NAME                           CREATED                   FRAMEWORK\n",
      "1e8085cf-4e84-43be-b0e7-e75e26a355f2  GermanCreditRiskModelYPQA      2019-10-01T08:14:42.996Z  mllib-2.3\n",
      "7cbe553c-46b0-4b79-9932-157fd458849b  GermanCreditRiskModel          2019-09-30T06:53:46.141Z  mllib-2.3\n",
      "b87b511d-5b7f-4bd5-8fbe-288a066a261a  Scikit German Risk Model       2019-09-27T11:18:20.902Z  scikit-learn-0.20\n",
      "6e6764d5-c790-4414-aa70-ae3a7a9b4b70  GermanCreditRisk-testv4_or_v3  2019-09-02T08:31:35.612Z  mllib-2.3\n",
      "f5d05e4b-731e-446a-991b-b24c90f5cd16  AIOS Keras DogsAndCats model   2019-07-15T09:51:59.055Z  tensorflow-1.5\n",
      "bc594c80-abbe-4827-a9ae-cba9e69b3acc  AIOS Keras DogsAndCats model   2019-07-15T09:35:29.260Z  tensorflow-1.5\n",
      "945286d4-4fdb-411d-ac7e-9eba252f512b  AIOS Keras DogsAndCats model   2019-07-11T13:12:24.980Z  tensorflow-1.5\n",
      "b66a65f6-b1a9-4c85-97c5-004072847a6f  BID_detector_CIFAR10           2019-07-01T00:26:25.922Z  tensorflow-1.11\n",
      "f81bf4f9-9877-49b2-b400-b3de965d12e7  Image-classifier               2019-06-28T06:58:33.484Z  tensorflow-1.11\n",
      "------------------------------------  -----------------------------  ------------------------  -----------------\n"
     ]
    }
   ],
   "source": [
    "model_deployment_ids = wml_client.deployments.get_uids()\n",
    "for deployment_id in model_deployment_ids:\n",
    "    deployment = wml_client.deployments.get_details(deployment_id)\n",
    "    model_id = deployment['entity']['deployable_asset']['guid']\n",
    "    if deployment['entity']['name'] == DEPLOYMENT_NAME:\n",
    "        print('Deleting deployment id', deployment_id)\n",
    "        wml_client.deployments.delete(deployment_id)\n",
    "        print('Deleting model id', model_id)\n",
    "        wml_client.repository.delete(model_id)\n",
    "wml_client.repository.list_models()"
   ]
  },
  {
   "cell_type": "code",
   "execution_count": 24,
   "metadata": {},
   "outputs": [
    {
     "name": "stdout",
     "output_type": "stream",
     "text": [
      "-rw-r--r-- 1 spark 4294967294 14K Oct  4 09:21 credit-risk-meta.json\r\n"
     ]
    }
   ],
   "source": [
    "with io.capture_output() as captured:\n",
    "    !wget https://raw.githubusercontent.com/pmservice/wml-sample-models/master/spark/credit-risk/meta/credit-risk-meta.json -O credit-risk-meta.json\n",
    "!ls -lh credit-risk-meta.json"
   ]
  },
  {
   "cell_type": "code",
   "execution_count": 25,
   "metadata": {},
   "outputs": [],
   "source": [
    "with open('credit-risk-meta.json') as f:\n",
    "    [training_data_reference, *_] = json.load(f)['model_meta']['training_data_reference']"
   ]
  },
  {
   "cell_type": "code",
   "execution_count": 26,
   "metadata": {
    "scrolled": true
   },
   "outputs": [],
   "source": [
    "model_props = {\n",
    "    wml_client.repository.ModelMetaNames.NAME: \"{}\".format(MODEL_NAME),\n",
    "    wml_client.repository.ModelMetaNames.EVALUATION_METHOD: \"binary\",\n",
    "    wml_client.repository.ModelMetaNames.TRAINING_DATA_REFERENCE: training_data_reference,\n",
    "    wml_client.repository.ModelMetaNames.EVALUATION_METRICS: [\n",
    "        {\n",
    "           \"name\": \"areaUnderROC\",\n",
    "           \"value\": area_under_curve,\n",
    "           \"threshold\": 0.7\n",
    "        }\n",
    "    ]\n",
    "}"
   ]
  },
  {
   "cell_type": "code",
   "execution_count": 27,
   "metadata": {
    "scrolled": true
   },
   "outputs": [
    {
     "name": "stdout",
     "output_type": "stream",
     "text": [
      "Storing model ...\n",
      "Done\n"
     ]
    }
   ],
   "source": [
    "wml_models = wml_client.repository.get_details()\n",
    "model_uid = None\n",
    "for model_in in wml_models['models']['resources']:\n",
    "    if MODEL_NAME == model_in['entity']['name']:\n",
    "        model_uid = model_in['metadata']['guid']\n",
    "        break\n",
    "\n",
    "if model_uid is None:\n",
    "    print(\"Storing model ...\")\n",
    "\n",
    "    published_model_details = wml_client.repository.store_model(model=model, meta_props=model_props, training_data=train_data, pipeline=pipeline)\n",
    "    model_uid = wml_client.repository.get_model_uid(published_model_details)\n",
    "    print(\"Done\")"
   ]
  },
  {
   "cell_type": "code",
   "execution_count": 28,
   "metadata": {
    "scrolled": true
   },
   "outputs": [
    {
     "data": {
      "text/plain": [
       "'13f276da-1f21-49bb-bbb9-a219d68a81af'"
      ]
     },
     "execution_count": 28,
     "metadata": {},
     "output_type": "execute_result"
    }
   ],
   "source": [
    "model_uid"
   ]
  },
  {
   "cell_type": "markdown",
   "metadata": {},
   "source": [
    "## Deploy the model"
   ]
  },
  {
   "cell_type": "markdown",
   "metadata": {},
   "source": [
    "The next section of the notebook deploys the model as a RESTful web service in Watson Machine Learning. The deployed model will have a scoring URL you can use to send data to the model for predictions."
   ]
  },
  {
   "cell_type": "code",
   "execution_count": 29,
   "metadata": {
    "scrolled": true
   },
   "outputs": [
    {
     "name": "stdout",
     "output_type": "stream",
     "text": [
      "Deploying model...\n",
      "\n",
      "\n",
      "#######################################################################################\n",
      "\n",
      "Synchronous deployment creation for uid: '13f276da-1f21-49bb-bbb9-a219d68a81af' started\n",
      "\n",
      "#######################################################################################\n",
      "\n",
      "\n",
      "INITIALIZING\n",
      "DEPLOY_SUCCESS\n",
      "\n",
      "\n",
      "------------------------------------------------------------------------------------------------\n",
      "Successfully finished deployment creation, deployment_uid='bc0cc692-3db2-4436-ad9b-93733d466627'\n",
      "------------------------------------------------------------------------------------------------\n",
      "\n",
      "\n",
      "Model id: 13f276da-1f21-49bb-bbb9-a219d68a81af\n",
      "Deployment id: bc0cc692-3db2-4436-ad9b-93733d466627\n"
     ]
    }
   ],
   "source": [
    "wml_deployments = wml_client.deployments.get_details()\n",
    "deployment_uid = None\n",
    "for deployment in wml_deployments['resources']:\n",
    "    if DEPLOYMENT_NAME == deployment['entity']['name']:\n",
    "        deployment_uid = deployment['metadata']['guid']\n",
    "        break\n",
    "\n",
    "if deployment_uid is None:\n",
    "    print(\"Deploying model...\")\n",
    "\n",
    "    deployment = wml_client.deployments.create(artifact_uid=model_uid, name=DEPLOYMENT_NAME, asynchronous=False)\n",
    "    deployment_uid = wml_client.deployments.get_uid(deployment)\n",
    "    \n",
    "print(\"Model id: {}\".format(model_uid))\n",
    "print(\"Deployment id: {}\".format(deployment_uid))"
   ]
  },
  {
   "cell_type": "markdown",
   "metadata": {},
   "source": [
    "# Configure OpenScale <a name=\"openscale\"></a>"
   ]
  },
  {
   "cell_type": "markdown",
   "metadata": {},
   "source": [
    "The notebook will now import the necessary libraries and set up a Python OpenScale client."
   ]
  },
  {
   "cell_type": "code",
   "execution_count": 30,
   "metadata": {
    "scrolled": true
   },
   "outputs": [],
   "source": [
    "from ibm_ai_openscale import APIClient\n",
    "from ibm_ai_openscale.engines import *\n",
    "from ibm_ai_openscale.utils import *\n",
    "from ibm_ai_openscale.supporting_classes import PayloadRecord, Feature\n",
    "from ibm_ai_openscale.supporting_classes.enums import *"
   ]
  },
  {
   "cell_type": "markdown",
   "metadata": {},
   "source": [
    "### Get Watson OpenScale GUID"
   ]
  },
  {
   "cell_type": "markdown",
   "metadata": {},
   "source": [
    "Each instance of OpenScale has a unique ID. We can get this value using the Cloud API key specified at the beginning of the notebook."
   ]
  },
  {
   "cell_type": "code",
   "execution_count": 31,
   "metadata": {},
   "outputs": [
    {
     "name": "stdout",
     "output_type": "stream",
     "text": [
      "27d2155a-b202-44ac-955e-ee20b64f6c89\n"
     ]
    }
   ],
   "source": [
    "import requests\n",
    "from ibm_ai_openscale.utils import get_instance_guid\n",
    "\n",
    "\n",
    "WOS_GUID = get_instance_guid(api_key=CLOUD_API_KEY)\n",
    "WOS_CREDENTIALS = {\n",
    "    \"instance_guid\": WOS_GUID,\n",
    "    \"apikey\": CLOUD_API_KEY,\n",
    "    \"url\": \"https://api.aiopenscale.cloud.ibm.com\"\n",
    "}\n",
    "\n",
    "if WOS_GUID is None:\n",
    "    print('Watson OpenScale GUID NOT FOUND')\n",
    "else:\n",
    "    print(WOS_GUID)"
   ]
  },
  {
   "cell_type": "code",
   "execution_count": 32,
   "metadata": {
    "scrolled": true
   },
   "outputs": [
    {
     "data": {
      "text/plain": [
       "'2.1.17'"
      ]
     },
     "execution_count": 32,
     "metadata": {},
     "output_type": "execute_result"
    }
   ],
   "source": [
    "ai_client = APIClient(aios_credentials=WOS_CREDENTIALS)\n",
    "ai_client.version"
   ]
  },
  {
   "cell_type": "markdown",
   "metadata": {},
   "source": [
    "## Create schema and datamart"
   ]
  },
  {
   "cell_type": "markdown",
   "metadata": {},
   "source": [
    "### Set up datamart"
   ]
  },
  {
   "cell_type": "markdown",
   "metadata": {},
   "source": [
    "Watson OpenScale uses a database to store payload logs and calculated metrics. If database credentials were **not** supplied above, the notebook will use the free, internal lite database. If database credentials were supplied, the datamart will be created there **unless** there is an existing datamart **and** the **KEEP_MY_INTERNAL_POSTGRES** variable is set to **True**. If an OpenScale datamart exists in Db2 or PostgreSQL, the existing datamart will be used and no data will be overwritten.\n",
    "\n",
    "Prior instances of the German Credit model will be removed from OpenScale monitoring."
   ]
  },
  {
   "cell_type": "code",
   "execution_count": 33,
   "metadata": {},
   "outputs": [
    {
     "name": "stdout",
     "output_type": "stream",
     "text": [
      "Using existing internal datamart.\n"
     ]
    }
   ],
   "source": [
    "try:\n",
    "    data_mart_details = ai_client.data_mart.get_details()\n",
    "    if 'internal_database' in data_mart_details and data_mart_details['internal_database']:\n",
    "        if KEEP_MY_INTERNAL_POSTGRES:\n",
    "            print('Using existing internal datamart.')\n",
    "        else:\n",
    "            if DB_CREDENTIALS is None:\n",
    "                print('No postgres credentials supplied. Using existing internal datamart')\n",
    "            else:\n",
    "                print('Switching to external datamart')\n",
    "                ai_client.data_mart.delete(force=True)\n",
    "                ai_client.data_mart.setup(db_credentials=DB_CREDENTIALS)\n",
    "    else:\n",
    "        print('Using existing external datamart')\n",
    "except:\n",
    "    if DB_CREDENTIALS is None:\n",
    "        print('Setting up internal datamart')\n",
    "        ai_client.data_mart.setup(internal_db=True)\n",
    "    else:\n",
    "        print('Setting up external datamart')\n",
    "        try:\n",
    "            ai_client.data_mart.setup(db_credentials=DB_CREDENTIALS)\n",
    "        except:\n",
    "            print('Setup failed, trying Db2 setup')\n",
    "            ai_client.data_mart.setup(db_credentials=DB_CREDENTIALS, schema=DB_CREDENTIALS['username'])\n",
    "    "
   ]
  },
  {
   "cell_type": "code",
   "execution_count": 34,
   "metadata": {
    "scrolled": true
   },
   "outputs": [
    {
     "data": {
      "text/plain": [
       "{'database_configuration': {},\n",
       " 'internal_database': True,\n",
       " 'internal_database_pool': 'icd-psql',\n",
       " 'service_instance_crn': 'crn:v1:bluemix:public:aiopenscale:us-south:a/19147c21f00a46d39862c9c934c2b71c:27d2155a-b202-44ac-955e-ee20b64f6c89::',\n",
       " 'status': {'state': 'active'}}"
      ]
     },
     "execution_count": 34,
     "metadata": {},
     "output_type": "execute_result"
    }
   ],
   "source": [
    "data_mart_details = ai_client.data_mart.get_details()\n",
    "data_mart_details"
   ]
  },
  {
   "cell_type": "markdown",
   "metadata": {},
   "source": [
    "## Bind machine learning engines"
   ]
  },
  {
   "cell_type": "markdown",
   "metadata": {},
   "source": [
    "Watson OpenScale needs to be bound to the Watson Machine Learning instance to capture payload data into and out of the model. If this binding already exists, this code will output a warning message and use the existing binding."
   ]
  },
  {
   "cell_type": "markdown",
   "metadata": {},
   "source": [
    "**Note:** You can bind more than one engine instance if needed by calling `ai_client.data_mart.bindings.add` method. Next, you can refer to particular binding using `binding_uid`."
   ]
  },
  {
   "cell_type": "code",
   "execution_count": 35,
   "metadata": {
    "scrolled": false
   },
   "outputs": [
    {
     "name": "stdout",
     "output_type": "stream",
     "text": [
      "Warning during bind instance.\n",
      "Status code: 409, body: {\"errors\":[{\"code\":\"AIQCS0010W\",\"message\":\"Service Binding with this id is already defined\"}],\"trace\":\"Y2FjOWQ4ZTItMTczOS00ODVlLThmNGUtMzQ4YjI2ZTMxMWZl\"}\n"
     ]
    },
    {
     "data": {
      "text/html": [
       "<HTML>\n",
       "        <body>\n",
       "            <h3>Service bindings</h3>\n",
       "            <table style='border: 1px solid #dddddd; font-family: Courier'>\n",
       "                <th style='border: 1px solid #dddddd'>uid</th><th style='border: 1px solid #dddddd'>name</th><th style='border: 1px solid #dddddd'>service_type</th><th style='border: 1px solid #dddddd'>created</th>\n",
       "                <tr><td style='border: 1px solid #dddddd'>a4729971-8653-4aae-a7ab-624185056799</td><td style='border: 1px solid #dddddd'>WML instance</td><td style='border: 1px solid #dddddd'>watson_machine_learning</td><td style='border: 1px solid #dddddd'>2019-10-01T13:06:18.960Z</td></tr>\n",
       "            </table>\n",
       "        </body>\n",
       "        </HTML>"
      ],
      "text/plain": [
       "<IPython.core.display.HTML object>"
      ]
     },
     "metadata": {},
     "output_type": "display_data"
    }
   ],
   "source": [
    "binding_uid = ai_client.data_mart.bindings.add('WML instance', WatsonMachineLearningInstance(WML_CREDENTIALS))\n",
    "if binding_uid is None:\n",
    "    binding_uid = ai_client.data_mart.bindings.get_details()['service_bindings'][0]['metadata']['guid']\n",
    "bindings_details = ai_client.data_mart.bindings.get_details()\n",
    "ai_client.data_mart.bindings.list()"
   ]
  },
  {
   "cell_type": "code",
   "execution_count": 36,
   "metadata": {
    "scrolled": true
   },
   "outputs": [
    {
     "name": "stdout",
     "output_type": "stream",
     "text": [
      "a4729971-8653-4aae-a7ab-624185056799\n"
     ]
    }
   ],
   "source": [
    "print(binding_uid)"
   ]
  },
  {
   "cell_type": "code",
   "execution_count": 37,
   "metadata": {
    "scrolled": false
   },
   "outputs": [
    {
     "data": {
      "text/html": [
       "<HTML>\n",
       "        <body>\n",
       "            <h3>Available assets</h3>\n",
       "            <table style='border: 1px solid #dddddd; font-family: Courier'>\n",
       "                <th style='border: 1px solid #dddddd'>source_uid</th><th style='border: 1px solid #dddddd'>name</th><th style='border: 1px solid #dddddd'>created</th><th style='border: 1px solid #dddddd'>type</th><th style='border: 1px solid #dddddd'>frameworks</th><th style='border: 1px solid #dddddd'>binding_uid</th><th style='border: 1px solid #dddddd'>is_subscribed</th>\n",
       "                <tr><td style='border: 1px solid #dddddd'>13f276da-1f21-49bb-bbb9-a219d68a81af</td><td style='border: 1px solid #dddddd'>Spark German Risk Model - Final</td><td style='border: 1px solid #dddddd'>2019-10-04T09:22:07.356Z</td><td style='border: 1px solid #dddddd'>model</td><td style='border: 1px solid #dddddd'>mllib-2.3</td><td style='border: 1px solid #dddddd'>a4729971-8653-4aae-a7ab-624185056799</td><td style='border: 1px solid #dddddd'>False</td></tr><tr><td style='border: 1px solid #dddddd'>1e8085cf-4e84-43be-b0e7-e75e26a355f2</td><td style='border: 1px solid #dddddd'>GermanCreditRiskModelYPQA</td><td style='border: 1px solid #dddddd'>2019-10-01T08:14:48.993Z</td><td style='border: 1px solid #dddddd'>model</td><td style='border: 1px solid #dddddd'>mllib-2.3</td><td style='border: 1px solid #dddddd'>a4729971-8653-4aae-a7ab-624185056799</td><td style='border: 1px solid #dddddd'>False</td></tr><tr><td style='border: 1px solid #dddddd'>b87b511d-5b7f-4bd5-8fbe-288a066a261a</td><td style='border: 1px solid #dddddd'>Scikit German Risk Model</td><td style='border: 1px solid #dddddd'>2019-09-27T11:18:23.475Z</td><td style='border: 1px solid #dddddd'>model</td><td style='border: 1px solid #dddddd'>scikit-learn-0.20</td><td style='border: 1px solid #dddddd'>a4729971-8653-4aae-a7ab-624185056799</td><td style='border: 1px solid #dddddd'>False</td></tr><tr><td style='border: 1px solid #dddddd'>b66a65f6-b1a9-4c85-97c5-004072847a6f</td><td style='border: 1px solid #dddddd'>BID_detector_CIFAR10</td><td style='border: 1px solid #dddddd'>2019-07-01T00:28:47.752Z</td><td style='border: 1px solid #dddddd'>model</td><td style='border: 1px solid #dddddd'>tensorflow-1.11</td><td style='border: 1px solid #dddddd'>a4729971-8653-4aae-a7ab-624185056799</td><td style='border: 1px solid #dddddd'>False</td></tr><tr><td style='border: 1px solid #dddddd'>f81bf4f9-9877-49b2-b400-b3de965d12e7</td><td style='border: 1px solid #dddddd'>Image-classifier</td><td style='border: 1px solid #dddddd'>2019-06-28T07:02:53.259Z</td><td style='border: 1px solid #dddddd'>model</td><td style='border: 1px solid #dddddd'>tensorflow-1.11</td><td style='border: 1px solid #dddddd'>a4729971-8653-4aae-a7ab-624185056799</td><td style='border: 1px solid #dddddd'>False</td></tr>\n",
       "            </table>\n",
       "        </body>\n",
       "        </HTML>"
      ],
      "text/plain": [
       "<IPython.core.display.HTML object>"
      ]
     },
     "metadata": {},
     "output_type": "display_data"
    }
   ],
   "source": [
    "ai_client.data_mart.bindings.list_assets()"
   ]
  },
  {
   "cell_type": "markdown",
   "metadata": {},
   "source": [
    "## Subscriptions"
   ]
  },
  {
   "cell_type": "markdown",
   "metadata": {},
   "source": [
    "### Remove existing credit risk subscriptions"
   ]
  },
  {
   "cell_type": "markdown",
   "metadata": {},
   "source": [
    "This code removes previous subscriptions to the German Credit model to refresh the monitors with the new model and new data."
   ]
  },
  {
   "cell_type": "code",
   "execution_count": 38,
   "metadata": {
    "scrolled": true
   },
   "outputs": [
    {
     "name": "stdout",
     "output_type": "stream",
     "text": [
      "Deleted existing subscription for Spark German Risk Model - Final\n"
     ]
    }
   ],
   "source": [
    "subscriptions_uids = ai_client.data_mart.subscriptions.get_uids()\n",
    "for subscription in subscriptions_uids:\n",
    "    sub_name = ai_client.data_mart.subscriptions.get_details(subscription)['entity']['asset']['name']\n",
    "    if sub_name == MODEL_NAME:\n",
    "        ai_client.data_mart.subscriptions.delete(subscription)\n",
    "        print('Deleted existing subscription for', MODEL_NAME)"
   ]
  },
  {
   "cell_type": "markdown",
   "metadata": {},
   "source": [
    "This code creates the model subscription in OpenScale using the Python client API. Note that we need to provide the model unique identifier, and some information about the model itself."
   ]
  },
  {
   "cell_type": "code",
   "execution_count": 39,
   "metadata": {
    "scrolled": false
   },
   "outputs": [],
   "source": [
    "subscription = ai_client.data_mart.subscriptions.add(WatsonMachineLearningAsset(\n",
    "    model_uid,\n",
    "    problem_type=ProblemType.BINARY_CLASSIFICATION,\n",
    "    input_data_type=InputDataType.STRUCTURED,\n",
    "    label_column='Risk',\n",
    "    prediction_column='predictedLabel',\n",
    "    probability_column='probability',\n",
    "    feature_columns = [\"CheckingStatus\",\"LoanDuration\",\"CreditHistory\",\"LoanPurpose\",\"LoanAmount\",\"ExistingSavings\",\"EmploymentDuration\",\"InstallmentPercent\",\"Sex\",\"OthersOnLoan\",\"CurrentResidenceDuration\",\"OwnsProperty\",\"Age\",\"InstallmentPlans\",\"Housing\",\"ExistingCreditsCount\",\"Job\",\"Dependents\",\"Telephone\",\"ForeignWorker\"],\n",
    "    categorical_columns = [\"CheckingStatus\",\"CreditHistory\",\"LoanPurpose\",\"ExistingSavings\",\"EmploymentDuration\",\"Sex\",\"OthersOnLoan\",\"OwnsProperty\",\"InstallmentPlans\",\"Housing\",\"Job\",\"Telephone\",\"ForeignWorker\"]\n",
    "))\n",
    "\n",
    "if subscription is None:\n",
    "    print('Subscription already exists; get the existing one')\n",
    "    subscriptions_uids = ai_client.data_mart.subscriptions.get_uids()\n",
    "    for sub in subscriptions_uids:\n",
    "        if ai_client.data_mart.subscriptions.get_details(sub)['entity']['asset']['name'] == MODEL_NAME:\n",
    "            subscription = ai_client.data_mart.subscriptions.get(sub)"
   ]
  },
  {
   "cell_type": "markdown",
   "metadata": {},
   "source": [
    "Get subscription list"
   ]
  },
  {
   "cell_type": "code",
   "execution_count": 40,
   "metadata": {
    "scrolled": true
   },
   "outputs": [
    {
     "data": {
      "text/html": [
       "<HTML>\n",
       "        <body>\n",
       "            <h3>Subscriptions</h3>\n",
       "            <table style='border: 1px solid #dddddd; font-family: Courier'>\n",
       "                <th style='border: 1px solid #dddddd'>uid</th><th style='border: 1px solid #dddddd'>name</th><th style='border: 1px solid #dddddd'>type</th><th style='border: 1px solid #dddddd'>binding_uid</th><th style='border: 1px solid #dddddd'>created</th>\n",
       "                <tr><td style='border: 1px solid #dddddd'>bcb19d94-cfdf-4019-b342-40e0e5a75351</td><td style='border: 1px solid #dddddd'>Spark German Risk Model - Final</td><td style='border: 1px solid #dddddd'>model</td><td style='border: 1px solid #dddddd'>a4729971-8653-4aae-a7ab-624185056799</td><td style='border: 1px solid #dddddd'>2019-10-04T09:22:22.326Z</td></tr>\n",
       "            </table>\n",
       "        </body>\n",
       "        </HTML>"
      ],
      "text/plain": [
       "<IPython.core.display.HTML object>"
      ]
     },
     "metadata": {},
     "output_type": "display_data"
    }
   ],
   "source": [
    "subscriptions_uids = ai_client.data_mart.subscriptions.get_uids()\n",
    "ai_client.data_mart.subscriptions.list()"
   ]
  },
  {
   "cell_type": "code",
   "execution_count": 41,
   "metadata": {
    "scrolled": false
   },
   "outputs": [],
   "source": [
    "subscription_details = subscription.get_details()"
   ]
  },
  {
   "cell_type": "markdown",
   "metadata": {},
   "source": [
    "### Score the model so we can configure monitors"
   ]
  },
  {
   "cell_type": "markdown",
   "metadata": {},
   "source": [
    "Now that the WML service has been bound and the subscription has been created, we need to send a request to the model before we configure OpenScale. This allows OpenScale to create a payload log in the datamart with the correct schema, so it can capture data coming into and out of the model. First, the code gets the model deployment's endpoint URL, and then sends a few records for predictions."
   ]
  },
  {
   "cell_type": "code",
   "execution_count": 42,
   "metadata": {
    "scrolled": true
   },
   "outputs": [
    {
     "name": "stdout",
     "output_type": "stream",
     "text": [
      "bc0cc692-3db2-4436-ad9b-93733d466627\n",
      "https://us-south.ml.cloud.ibm.com/v3/wml_instances/a4729971-8653-4aae-a7ab-624185056799/deployments/bc0cc692-3db2-4436-ad9b-93733d466627/online\n"
     ]
    }
   ],
   "source": [
    "credit_risk_scoring_endpoint = None\n",
    "print(deployment_uid)\n",
    "\n",
    "for deployment in wml_client.deployments.get_details()['resources']:\n",
    "    if deployment_uid in deployment['metadata']['guid']:\n",
    "        credit_risk_scoring_endpoint = deployment['entity']['scoring_url']\n",
    "        \n",
    "print(credit_risk_scoring_endpoint)"
   ]
  },
  {
   "cell_type": "code",
   "execution_count": 43,
   "metadata": {
    "scrolled": true
   },
   "outputs": [
    {
     "name": "stdout",
     "output_type": "stream",
     "text": [
      "Single record scoring result: \n",
      " fields: ['CheckingStatus', 'LoanDuration', 'CreditHistory', 'LoanPurpose', 'LoanAmount', 'ExistingSavings', 'EmploymentDuration', 'InstallmentPercent', 'Sex', 'OthersOnLoan', 'CurrentResidenceDuration', 'OwnsProperty', 'Age', 'InstallmentPlans', 'Housing', 'ExistingCreditsCount', 'Job', 'Dependents', 'Telephone', 'ForeignWorker', 'CheckingStatus_IX', 'CreditHistory_IX', 'EmploymentDuration_IX', 'ExistingSavings_IX', 'ForeignWorker_IX', 'Housing_IX', 'InstallmentPlans_IX', 'Job_IX', 'LoanPurpose_IX', 'OthersOnLoan_IX', 'OwnsProperty_IX', 'Sex_IX', 'Telephone_IX', 'features', 'rawPrediction', 'probability', 'prediction', 'predictedLabel'] \n",
      " values:  ['no_checking', 13, 'credits_paid_to_date', 'car_new', 1343, '100_to_500', '1_to_4', 2, 'female', 'none', 3, 'savings_insurance', 46, 'none', 'own', 2, 'skilled', 1, 'none', 'yes', 0.0, 1.0, 0.0, 1.0, 0.0, 0.0, 0.0, 0.0, 0.0, 0.0, 0.0, 1.0, 0.0, [21, [1, 3, 5, 13, 14, 15, 16, 17, 18, 19, 20], [1.0, 1.0, 1.0, 13.0, 1343.0, 2.0, 3.0, 13.0, 46.0, 2.0, 1.0]], [14.498209724668289, 5.501790275331709], [0.7249104862334145, 0.27508951376658547], 0.0, 'No Risk']\n"
     ]
    }
   ],
   "source": [
    "fields = [\"CheckingStatus\",\"LoanDuration\",\"CreditHistory\",\"LoanPurpose\",\"LoanAmount\",\"ExistingSavings\",\"EmploymentDuration\",\"InstallmentPercent\",\"Sex\",\"OthersOnLoan\",\"CurrentResidenceDuration\",\"OwnsProperty\",\"Age\",\"InstallmentPlans\",\"Housing\",\"ExistingCreditsCount\",\"Job\",\"Dependents\",\"Telephone\",\"ForeignWorker\"]\n",
    "values = [\n",
    "  [\"no_checking\",13,\"credits_paid_to_date\",\"car_new\",1343,\"100_to_500\",\"1_to_4\",2,\"female\",\"none\",3,\"savings_insurance\",46,\"none\",\"own\",2,\"skilled\",1,\"none\",\"yes\"],\n",
    "  [\"no_checking\",24,\"prior_payments_delayed\",\"furniture\",4567,\"500_to_1000\",\"1_to_4\",4,\"male\",\"none\",4,\"savings_insurance\",36,\"none\",\"free\",2,\"management_self-employed\",1,\"none\",\"yes\"],\n",
    "  [\"0_to_200\",26,\"all_credits_paid_back\",\"car_new\",863,\"less_100\",\"less_1\",2,\"female\",\"co-applicant\",2,\"real_estate\",38,\"none\",\"own\",1,\"skilled\",1,\"none\",\"yes\"],\n",
    "  [\"0_to_200\",14,\"no_credits\",\"car_new\",2368,\"less_100\",\"1_to_4\",3,\"female\",\"none\",3,\"real_estate\",29,\"none\",\"own\",1,\"skilled\",1,\"none\",\"yes\"],\n",
    "  [\"0_to_200\",4,\"no_credits\",\"car_new\",250,\"less_100\",\"unemployed\",2,\"female\",\"none\",3,\"real_estate\",23,\"none\",\"rent\",1,\"management_self-employed\",1,\"none\",\"yes\"],\n",
    "  [\"no_checking\",17,\"credits_paid_to_date\",\"car_new\",832,\"100_to_500\",\"1_to_4\",2,\"male\",\"none\",2,\"real_estate\",42,\"none\",\"own\",1,\"skilled\",1,\"none\",\"yes\"],\n",
    "  [\"no_checking\",33,\"outstanding_credit\",\"appliances\",5696,\"unknown\",\"greater_7\",4,\"male\",\"co-applicant\",4,\"unknown\",54,\"none\",\"free\",2,\"skilled\",1,\"yes\",\"yes\"],\n",
    "  [\"0_to_200\",13,\"prior_payments_delayed\",\"retraining\",1375,\"100_to_500\",\"4_to_7\",3,\"male\",\"none\",3,\"real_estate\",37,\"none\",\"own\",2,\"management_self-employed\",1,\"none\",\"yes\"]\n",
    "]\n",
    "\n",
    "payload_scoring = {\"fields\": fields,\"values\": values}\n",
    "scoring_response = wml_client.deployments.score(credit_risk_scoring_endpoint, payload_scoring)\n",
    "\n",
    "print('Single record scoring result:', '\\n fields:', scoring_response['fields'], '\\n values: ', scoring_response['values'][0])"
   ]
  },
  {
   "cell_type": "markdown",
   "metadata": {},
   "source": [
    "# Quality monitoring and feedback logging <a name=\"quality\"></a>"
   ]
  },
  {
   "cell_type": "markdown",
   "metadata": {},
   "source": [
    "## Enable quality monitoring"
   ]
  },
  {
   "cell_type": "markdown",
   "metadata": {},
   "source": [
    "The code below waits ten seconds to allow the payload logging table to be set up before it begins enabling monitors. First, it turns on the quality (accuracy) monitor and sets an alert threshold of 70%. OpenScale will show an alert on the dashboard if the model accuracy measurement (area under the curve, in the case of a binary classifier) falls below this threshold.\n",
    "\n",
    "The second paramater supplied, min_records, specifies the minimum number of feedback records OpenScale needs before it calculates a new measurement. The quality monitor runs hourly, but the accuracy reading in the dashboard will not change until an additional 50 feedback records have been added, via the user interface, the Python client, or the supplied feedback endpoint."
   ]
  },
  {
   "cell_type": "code",
   "execution_count": 44,
   "metadata": {
    "scrolled": true
   },
   "outputs": [],
   "source": [
    "time.sleep(10)\n",
    "subscription.quality_monitoring.enable(threshold=0.7, min_records=50)"
   ]
  },
  {
   "cell_type": "markdown",
   "metadata": {},
   "source": [
    "## Feedback logging"
   ]
  },
  {
   "cell_type": "markdown",
   "metadata": {},
   "source": [
    "The code below downloads and stores enough feedback data to meet the minimum threshold so that OpenScale can calculate a new accuracy measurement. It then kicks off the accuracy monitor. The monitors run hourly, or can be initiated via the Python API, the REST API, or the graphical user interface."
   ]
  },
  {
   "cell_type": "code",
   "execution_count": 45,
   "metadata": {},
   "outputs": [
    {
     "name": "stdout",
     "output_type": "stream",
     "text": [
      "-rw-r--r-- 1 spark 4294967294 17K Oct  4 09:22 additional_feedback_data.json\r\n"
     ]
    }
   ],
   "source": [
    "with io.capture_output() as captured:\n",
    "    !wget https://raw.githubusercontent.com/pmservice/ai-openscale-tutorials/master/assets/historical_data/german_credit_risk/wml/additional_feedback_data.json -O additional_feedback_data.json\n",
    "!ls -lh additional_feedback_data.json"
   ]
  },
  {
   "cell_type": "code",
   "execution_count": 46,
   "metadata": {},
   "outputs": [],
   "source": [
    "with open('additional_feedback_data.json') as feedback_file:\n",
    "    additional_feedback_data = json.load(feedback_file)\n",
    "    \n",
    "subscription.feedback_logging.store(additional_feedback_data['data'])"
   ]
  },
  {
   "cell_type": "code",
   "execution_count": 47,
   "metadata": {
    "scrolled": true
   },
   "outputs": [
    {
     "data": {
      "text/html": [
       "<HTML>\n",
       "        <body>\n",
       "            <h3>Feedback_bcb19d94-cfdf-4019-b342-40e0e5a75351 (binding_id=a4729971-8653-4aae-a7ab-624185056799, subscription_id=bcb19d94-cfdf-4019-b342-40e0e5a75351)</h3>\n",
       "            <table style='border: 1px solid #dddddd; font-family: Courier'>\n",
       "                <th style='border: 1px solid #dddddd'>CheckingStatus</th><th style='border: 1px solid #dddddd'>LoanDuration</th><th style='border: 1px solid #dddddd'>CreditHistory</th><th style='border: 1px solid #dddddd'>LoanPurpose</th><th style='border: 1px solid #dddddd'>LoanAmount</th><th style='border: 1px solid #dddddd'>ExistingSavings</th><th style='border: 1px solid #dddddd'>EmploymentDuration</th><th style='border: 1px solid #dddddd'>InstallmentPercent</th><th style='border: 1px solid #dddddd'>Sex</th><th style='border: 1px solid #dddddd'>OthersOnLoan</th><th style='border: 1px solid #dddddd'>CurrentResidenceDuration</th><th style='border: 1px solid #dddddd'>OwnsProperty</th><th style='border: 1px solid #dddddd'>Age</th><th style='border: 1px solid #dddddd'>InstallmentPlans</th><th style='border: 1px solid #dddddd'>Housing</th><th style='border: 1px solid #dddddd'>ExistingCreditsCount</th><th style='border: 1px solid #dddddd'>Job</th><th style='border: 1px solid #dddddd'>Dependents</th><th style='border: 1px solid #dddddd'>Telephone</th><th style='border: 1px solid #dddddd'>ForeignWorker</th><th style='border: 1px solid #dddddd'>Risk</th><th style='border: 1px solid #dddddd'>_training</th>\n",
       "                <tr><td style='border: 1px solid #dddddd'>less_0</td><td style='border: 1px solid #dddddd'>10</td><td style='border: 1px solid #dddddd'>all_credits_paid_back</td><td style='border: 1px solid #dddddd'>car_new</td><td style='border: 1px solid #dddddd'>250</td><td style='border: 1px solid #dddddd'>500_to_1000</td><td style='border: 1px solid #dddddd'>4_to_7</td><td style='border: 1px solid #dddddd'>3</td><td style='border: 1px solid #dddddd'>male</td><td style='border: 1px solid #dddddd'>none</td><td style='border: 1px solid #dddddd'>2</td><td style='border: 1px solid #dddddd'>real_estate</td><td style='border: 1px solid #dddddd'>23</td><td style='border: 1px solid #dddddd'>none</td><td style='border: 1px solid #dddddd'>rent</td><td style='border: 1px solid #dddddd'>1</td><td style='border: 1px solid #dddddd'>skilled</td><td style='border: 1px solid #dddddd'>1</td><td style='border: 1px solid #dddddd'>none</td><td style='border: 1px solid #dddddd'>yes</td><td style='border: 1px solid #dddddd'>No Risk</td><td style='border: 1px solid #dddddd'>2019-10-04 09:22:38.621837+00:00</td></tr><tr><td style='border: 1px solid #dddddd'>no_checking</td><td style='border: 1px solid #dddddd'>23</td><td style='border: 1px solid #dddddd'>prior_payments_delayed</td><td style='border: 1px solid #dddddd'>appliances</td><td style='border: 1px solid #dddddd'>6964</td><td style='border: 1px solid #dddddd'>100_to_500</td><td style='border: 1px solid #dddddd'>4_to_7</td><td style='border: 1px solid #dddddd'>4</td><td style='border: 1px solid #dddddd'>female</td><td style='border: 1px solid #dddddd'>none</td><td style='border: 1px solid #dddddd'>3</td><td style='border: 1px solid #dddddd'>car_other</td><td style='border: 1px solid #dddddd'>39</td><td style='border: 1px solid #dddddd'>none</td><td style='border: 1px solid #dddddd'>own</td><td style='border: 1px solid #dddddd'>1</td><td style='border: 1px solid #dddddd'>skilled</td><td style='border: 1px solid #dddddd'>1</td><td style='border: 1px solid #dddddd'>none</td><td style='border: 1px solid #dddddd'>yes</td><td style='border: 1px solid #dddddd'>Risk</td><td style='border: 1px solid #dddddd'>2019-10-04 09:22:38.621837+00:00</td></tr><tr><td style='border: 1px solid #dddddd'>0_to_200</td><td style='border: 1px solid #dddddd'>30</td><td style='border: 1px solid #dddddd'>outstanding_credit</td><td style='border: 1px solid #dddddd'>appliances</td><td style='border: 1px solid #dddddd'>3464</td><td style='border: 1px solid #dddddd'>100_to_500</td><td style='border: 1px solid #dddddd'>greater_7</td><td style='border: 1px solid #dddddd'>3</td><td style='border: 1px solid #dddddd'>male</td><td style='border: 1px solid #dddddd'>guarantor</td><td style='border: 1px solid #dddddd'>4</td><td style='border: 1px solid #dddddd'>savings_insurance</td><td style='border: 1px solid #dddddd'>51</td><td style='border: 1px solid #dddddd'>stores</td><td style='border: 1px solid #dddddd'>free</td><td style='border: 1px solid #dddddd'>1</td><td style='border: 1px solid #dddddd'>skilled</td><td style='border: 1px solid #dddddd'>1</td><td style='border: 1px solid #dddddd'>yes</td><td style='border: 1px solid #dddddd'>yes</td><td style='border: 1px solid #dddddd'>Risk</td><td style='border: 1px solid #dddddd'>2019-10-04 09:22:38.621837+00:00</td></tr><tr><td style='border: 1px solid #dddddd'>no_checking</td><td style='border: 1px solid #dddddd'>23</td><td style='border: 1px solid #dddddd'>outstanding_credit</td><td style='border: 1px solid #dddddd'>car_used</td><td style='border: 1px solid #dddddd'>2681</td><td style='border: 1px solid #dddddd'>500_to_1000</td><td style='border: 1px solid #dddddd'>greater_7</td><td style='border: 1px solid #dddddd'>4</td><td style='border: 1px solid #dddddd'>male</td><td style='border: 1px solid #dddddd'>none</td><td style='border: 1px solid #dddddd'>3</td><td style='border: 1px solid #dddddd'>car_other</td><td style='border: 1px solid #dddddd'>33</td><td style='border: 1px solid #dddddd'>stores</td><td style='border: 1px solid #dddddd'>free</td><td style='border: 1px solid #dddddd'>1</td><td style='border: 1px solid #dddddd'>unskilled</td><td style='border: 1px solid #dddddd'>1</td><td style='border: 1px solid #dddddd'>yes</td><td style='border: 1px solid #dddddd'>yes</td><td style='border: 1px solid #dddddd'>No Risk</td><td style='border: 1px solid #dddddd'>2019-10-04 09:22:38.621837+00:00</td></tr><tr><td style='border: 1px solid #dddddd'>0_to_200</td><td style='border: 1px solid #dddddd'>18</td><td style='border: 1px solid #dddddd'>prior_payments_delayed</td><td style='border: 1px solid #dddddd'>furniture</td><td style='border: 1px solid #dddddd'>1673</td><td style='border: 1px solid #dddddd'>less_100</td><td style='border: 1px solid #dddddd'>1_to_4</td><td style='border: 1px solid #dddddd'>2</td><td style='border: 1px solid #dddddd'>male</td><td style='border: 1px solid #dddddd'>none</td><td style='border: 1px solid #dddddd'>3</td><td style='border: 1px solid #dddddd'>car_other</td><td style='border: 1px solid #dddddd'>30</td><td style='border: 1px solid #dddddd'>none</td><td style='border: 1px solid #dddddd'>own</td><td style='border: 1px solid #dddddd'>2</td><td style='border: 1px solid #dddddd'>skilled</td><td style='border: 1px solid #dddddd'>1</td><td style='border: 1px solid #dddddd'>none</td><td style='border: 1px solid #dddddd'>yes</td><td style='border: 1px solid #dddddd'>Risk</td><td style='border: 1px solid #dddddd'>2019-10-04 09:22:38.621837+00:00</td></tr><tr><td style='border: 1px solid #dddddd'>no_checking</td><td style='border: 1px solid #dddddd'>44</td><td style='border: 1px solid #dddddd'>outstanding_credit</td><td style='border: 1px solid #dddddd'>radio_tv</td><td style='border: 1px solid #dddddd'>3476</td><td style='border: 1px solid #dddddd'>unknown</td><td style='border: 1px solid #dddddd'>greater_7</td><td style='border: 1px solid #dddddd'>4</td><td style='border: 1px solid #dddddd'>male</td><td style='border: 1px solid #dddddd'>co-applicant</td><td style='border: 1px solid #dddddd'>4</td><td style='border: 1px solid #dddddd'>unknown</td><td style='border: 1px solid #dddddd'>60</td><td style='border: 1px solid #dddddd'>none</td><td style='border: 1px solid #dddddd'>free</td><td style='border: 1px solid #dddddd'>2</td><td style='border: 1px solid #dddddd'>skilled</td><td style='border: 1px solid #dddddd'>2</td><td style='border: 1px solid #dddddd'>yes</td><td style='border: 1px solid #dddddd'>yes</td><td style='border: 1px solid #dddddd'>Risk</td><td style='border: 1px solid #dddddd'>2019-10-04 09:22:38.621837+00:00</td></tr><tr><td style='border: 1px solid #dddddd'>less_0</td><td style='border: 1px solid #dddddd'>8</td><td style='border: 1px solid #dddddd'>no_credits</td><td style='border: 1px solid #dddddd'>education</td><td style='border: 1px solid #dddddd'>803</td><td style='border: 1px solid #dddddd'>less_100</td><td style='border: 1px solid #dddddd'>unemployed</td><td style='border: 1px solid #dddddd'>1</td><td style='border: 1px solid #dddddd'>male</td><td style='border: 1px solid #dddddd'>none</td><td style='border: 1px solid #dddddd'>1</td><td style='border: 1px solid #dddddd'>savings_insurance</td><td style='border: 1px solid #dddddd'>19</td><td style='border: 1px solid #dddddd'>stores</td><td style='border: 1px solid #dddddd'>rent</td><td style='border: 1px solid #dddddd'>1</td><td style='border: 1px solid #dddddd'>skilled</td><td style='border: 1px solid #dddddd'>1</td><td style='border: 1px solid #dddddd'>none</td><td style='border: 1px solid #dddddd'>yes</td><td style='border: 1px solid #dddddd'>No Risk</td><td style='border: 1px solid #dddddd'>2019-10-04 09:22:38.621837+00:00</td></tr><tr><td style='border: 1px solid #dddddd'>0_to_200</td><td style='border: 1px solid #dddddd'>7</td><td style='border: 1px solid #dddddd'>all_credits_paid_back</td><td style='border: 1px solid #dddddd'>car_new</td><td style='border: 1px solid #dddddd'>250</td><td style='border: 1px solid #dddddd'>less_100</td><td style='border: 1px solid #dddddd'>unemployed</td><td style='border: 1px solid #dddddd'>1</td><td style='border: 1px solid #dddddd'>male</td><td style='border: 1px solid #dddddd'>none</td><td style='border: 1px solid #dddddd'>1</td><td style='border: 1px solid #dddddd'>real_estate</td><td style='border: 1px solid #dddddd'>19</td><td style='border: 1px solid #dddddd'>stores</td><td style='border: 1px solid #dddddd'>rent</td><td style='border: 1px solid #dddddd'>1</td><td style='border: 1px solid #dddddd'>skilled</td><td style='border: 1px solid #dddddd'>1</td><td style='border: 1px solid #dddddd'>none</td><td style='border: 1px solid #dddddd'>yes</td><td style='border: 1px solid #dddddd'>No Risk</td><td style='border: 1px solid #dddddd'>2019-10-04 09:22:38.621837+00:00</td></tr><tr><td style='border: 1px solid #dddddd'>0_to_200</td><td style='border: 1px solid #dddddd'>33</td><td style='border: 1px solid #dddddd'>credits_paid_to_date</td><td style='border: 1px solid #dddddd'>radio_tv</td><td style='border: 1px solid #dddddd'>3548</td><td style='border: 1px solid #dddddd'>100_to_500</td><td style='border: 1px solid #dddddd'>1_to_4</td><td style='border: 1px solid #dddddd'>3</td><td style='border: 1px solid #dddddd'>male</td><td style='border: 1px solid #dddddd'>none</td><td style='border: 1px solid #dddddd'>4</td><td style='border: 1px solid #dddddd'>car_other</td><td style='border: 1px solid #dddddd'>28</td><td style='border: 1px solid #dddddd'>none</td><td style='border: 1px solid #dddddd'>own</td><td style='border: 1px solid #dddddd'>2</td><td style='border: 1px solid #dddddd'>skilled</td><td style='border: 1px solid #dddddd'>1</td><td style='border: 1px solid #dddddd'>yes</td><td style='border: 1px solid #dddddd'>yes</td><td style='border: 1px solid #dddddd'>Risk</td><td style='border: 1px solid #dddddd'>2019-10-04 09:22:38.621837+00:00</td></tr><tr><td style='border: 1px solid #dddddd'>no_checking</td><td style='border: 1px solid #dddddd'>24</td><td style='border: 1px solid #dddddd'>prior_payments_delayed</td><td style='border: 1px solid #dddddd'>retraining</td><td style='border: 1px solid #dddddd'>4158</td><td style='border: 1px solid #dddddd'>100_to_500</td><td style='border: 1px solid #dddddd'>greater_7</td><td style='border: 1px solid #dddddd'>3</td><td style='border: 1px solid #dddddd'>female</td><td style='border: 1px solid #dddddd'>none</td><td style='border: 1px solid #dddddd'>2</td><td style='border: 1px solid #dddddd'>savings_insurance</td><td style='border: 1px solid #dddddd'>35</td><td style='border: 1px solid #dddddd'>stores</td><td style='border: 1px solid #dddddd'>own</td><td style='border: 1px solid #dddddd'>1</td><td style='border: 1px solid #dddddd'>unskilled</td><td style='border: 1px solid #dddddd'>2</td><td style='border: 1px solid #dddddd'>none</td><td style='border: 1px solid #dddddd'>yes</td><td style='border: 1px solid #dddddd'>Risk</td><td style='border: 1px solid #dddddd'>2019-10-04 09:22:38.621837+00:00</td></tr>\n",
       "            </table>\n",
       "        </body>\n",
       "        </HTML>"
      ],
      "text/plain": [
       "<IPython.core.display.HTML object>"
      ]
     },
     "metadata": {},
     "output_type": "display_data"
    }
   ],
   "source": [
    "subscription.feedback_logging.show_table()"
   ]
  },
  {
   "cell_type": "code",
   "execution_count": 48,
   "metadata": {
    "scrolled": true
   },
   "outputs": [
    {
     "name": "stdout",
     "output_type": "stream",
     "text": [
      "\n",
      "\n",
      "================================================================================\n",
      "\n",
      " Waiting for end of quality monitoring run b13a30f6-ffc9-40d7-900e-830e98b0e742 \n",
      "\n",
      "================================================================================\n",
      "\n",
      "\n",
      "\n",
      "initializing\n",
      "completed\n",
      "\n",
      "---------------------------\n",
      " Successfully finished run \n",
      "---------------------------\n",
      "\n",
      "\n"
     ]
    }
   ],
   "source": [
    "run_details = subscription.quality_monitoring.run(background_mode=False)"
   ]
  },
  {
   "cell_type": "code",
   "execution_count": 49,
   "metadata": {
    "scrolled": true
   },
   "outputs": [
    {
     "data": {
      "text/html": [
       "<HTML>\n",
       "        <body>\n",
       "            <h3>QualityMetrics (binding_id=a4729971-8653-4aae-a7ab-624185056799, subscription_id=bcb19d94-cfdf-4019-b342-40e0e5a75351)</h3>\n",
       "            <table style='border: 1px solid #dddddd; font-family: Courier'>\n",
       "                <th style='border: 1px solid #dddddd'>ts</th><th style='border: 1px solid #dddddd'>id</th><th style='border: 1px solid #dddddd'>measurement_id</th><th style='border: 1px solid #dddddd'>value</th><th style='border: 1px solid #dddddd'>lower limit</th><th style='border: 1px solid #dddddd'>upper limit</th><th style='border: 1px solid #dddddd'>tags</th><th style='border: 1px solid #dddddd'>binding_id</th><th style='border: 1px solid #dddddd'>subscription_id</th><th style='border: 1px solid #dddddd'>deployment_id</th>\n",
       "                <tr><td style='border: 1px solid #dddddd'>2019-10-04 09:22:42.589000+00:00</td><td style='border: 1px solid #dddddd'>true_positive_rate</td><td style='border: 1px solid #dddddd'>1b150610-cbae-48fd-a274-2ff843550db0</td><td style='border: 1px solid #dddddd'>0.30303030303030304</td><td style='border: 1px solid #dddddd'></td><td style='border: 1px solid #dddddd'></td><td style='border: 1px solid #dddddd'>model_type: original</td><td style='border: 1px solid #dddddd'>a4729971-8653-4aae-a7ab-624185056799</td><td style='border: 1px solid #dddddd'>bcb19d94-cfdf-4019-b342-40e0e5a75351</td><td style='border: 1px solid #dddddd'>bc0cc692-3db2-4436-ad9b-93733d466627</td></tr><tr><td style='border: 1px solid #dddddd'>2019-10-04 09:22:42.589000+00:00</td><td style='border: 1px solid #dddddd'>area_under_roc</td><td style='border: 1px solid #dddddd'>1b150610-cbae-48fd-a274-2ff843550db0</td><td style='border: 1px solid #dddddd'>0.6284382284382284</td><td style='border: 1px solid #dddddd'>0.7</td><td style='border: 1px solid #dddddd'></td><td style='border: 1px solid #dddddd'>model_type: original</td><td style='border: 1px solid #dddddd'>a4729971-8653-4aae-a7ab-624185056799</td><td style='border: 1px solid #dddddd'>bcb19d94-cfdf-4019-b342-40e0e5a75351</td><td style='border: 1px solid #dddddd'>bc0cc692-3db2-4436-ad9b-93733d466627</td></tr><tr><td style='border: 1px solid #dddddd'>2019-10-04 09:22:42.589000+00:00</td><td style='border: 1px solid #dddddd'>precision</td><td style='border: 1px solid #dddddd'>1b150610-cbae-48fd-a274-2ff843550db0</td><td style='border: 1px solid #dddddd'>0.7692307692307693</td><td style='border: 1px solid #dddddd'></td><td style='border: 1px solid #dddddd'></td><td style='border: 1px solid #dddddd'>model_type: original</td><td style='border: 1px solid #dddddd'>a4729971-8653-4aae-a7ab-624185056799</td><td style='border: 1px solid #dddddd'>bcb19d94-cfdf-4019-b342-40e0e5a75351</td><td style='border: 1px solid #dddddd'>bc0cc692-3db2-4436-ad9b-93733d466627</td></tr><tr><td style='border: 1px solid #dddddd'>2019-10-04 09:22:42.589000+00:00</td><td style='border: 1px solid #dddddd'>f1_measure</td><td style='border: 1px solid #dddddd'>1b150610-cbae-48fd-a274-2ff843550db0</td><td style='border: 1px solid #dddddd'>0.43478260869565216</td><td style='border: 1px solid #dddddd'></td><td style='border: 1px solid #dddddd'></td><td style='border: 1px solid #dddddd'>model_type: original</td><td style='border: 1px solid #dddddd'>a4729971-8653-4aae-a7ab-624185056799</td><td style='border: 1px solid #dddddd'>bcb19d94-cfdf-4019-b342-40e0e5a75351</td><td style='border: 1px solid #dddddd'>bc0cc692-3db2-4436-ad9b-93733d466627</td></tr><tr><td style='border: 1px solid #dddddd'>2019-10-04 09:22:42.589000+00:00</td><td style='border: 1px solid #dddddd'>accuracy</td><td style='border: 1px solid #dddddd'>1b150610-cbae-48fd-a274-2ff843550db0</td><td style='border: 1px solid #dddddd'>0.7346938775510204</td><td style='border: 1px solid #dddddd'></td><td style='border: 1px solid #dddddd'></td><td style='border: 1px solid #dddddd'>model_type: original</td><td style='border: 1px solid #dddddd'>a4729971-8653-4aae-a7ab-624185056799</td><td style='border: 1px solid #dddddd'>bcb19d94-cfdf-4019-b342-40e0e5a75351</td><td style='border: 1px solid #dddddd'>bc0cc692-3db2-4436-ad9b-93733d466627</td></tr><tr><td style='border: 1px solid #dddddd'>2019-10-04 09:22:42.589000+00:00</td><td style='border: 1px solid #dddddd'>log_loss</td><td style='border: 1px solid #dddddd'>1b150610-cbae-48fd-a274-2ff843550db0</td><td style='border: 1px solid #dddddd'>0.44141351029458625</td><td style='border: 1px solid #dddddd'></td><td style='border: 1px solid #dddddd'></td><td style='border: 1px solid #dddddd'>model_type: original</td><td style='border: 1px solid #dddddd'>a4729971-8653-4aae-a7ab-624185056799</td><td style='border: 1px solid #dddddd'>bcb19d94-cfdf-4019-b342-40e0e5a75351</td><td style='border: 1px solid #dddddd'>bc0cc692-3db2-4436-ad9b-93733d466627</td></tr><tr><td style='border: 1px solid #dddddd'>2019-10-04 09:22:42.589000+00:00</td><td style='border: 1px solid #dddddd'>false_positive_rate</td><td style='border: 1px solid #dddddd'>1b150610-cbae-48fd-a274-2ff843550db0</td><td style='border: 1px solid #dddddd'>0.046153846153846156</td><td style='border: 1px solid #dddddd'></td><td style='border: 1px solid #dddddd'></td><td style='border: 1px solid #dddddd'>model_type: original</td><td style='border: 1px solid #dddddd'>a4729971-8653-4aae-a7ab-624185056799</td><td style='border: 1px solid #dddddd'>bcb19d94-cfdf-4019-b342-40e0e5a75351</td><td style='border: 1px solid #dddddd'>bc0cc692-3db2-4436-ad9b-93733d466627</td></tr><tr><td style='border: 1px solid #dddddd'>2019-10-04 09:22:42.589000+00:00</td><td style='border: 1px solid #dddddd'>area_under_pr</td><td style='border: 1px solid #dddddd'>1b150610-cbae-48fd-a274-2ff843550db0</td><td style='border: 1px solid #dddddd'>0.6185124399410113</td><td style='border: 1px solid #dddddd'></td><td style='border: 1px solid #dddddd'></td><td style='border: 1px solid #dddddd'>model_type: original</td><td style='border: 1px solid #dddddd'>a4729971-8653-4aae-a7ab-624185056799</td><td style='border: 1px solid #dddddd'>bcb19d94-cfdf-4019-b342-40e0e5a75351</td><td style='border: 1px solid #dddddd'>bc0cc692-3db2-4436-ad9b-93733d466627</td></tr><tr><td style='border: 1px solid #dddddd'>2019-10-04 09:22:42.589000+00:00</td><td style='border: 1px solid #dddddd'>recall</td><td style='border: 1px solid #dddddd'>1b150610-cbae-48fd-a274-2ff843550db0</td><td style='border: 1px solid #dddddd'>0.30303030303030304</td><td style='border: 1px solid #dddddd'></td><td style='border: 1px solid #dddddd'></td><td style='border: 1px solid #dddddd'>model_type: original</td><td style='border: 1px solid #dddddd'>a4729971-8653-4aae-a7ab-624185056799</td><td style='border: 1px solid #dddddd'>bcb19d94-cfdf-4019-b342-40e0e5a75351</td><td style='border: 1px solid #dddddd'>bc0cc692-3db2-4436-ad9b-93733d466627</td></tr>\n",
       "            </table>\n",
       "        </body>\n",
       "        </HTML>"
      ],
      "text/plain": [
       "<IPython.core.display.HTML object>"
      ]
     },
     "metadata": {},
     "output_type": "display_data"
    }
   ],
   "source": [
    "subscription.quality_monitoring.show_table()"
   ]
  },
  {
   "cell_type": "code",
   "execution_count": 50,
   "metadata": {},
   "outputs": [
    {
     "data": {
      "image/png": "[encoded data removed]",
      "text/plain": [
       "<Figure size 432x288 with 1 Axes>"
      ]
     },
     "metadata": {
      "needs_background": "light"
     },
     "output_type": "display_data"
    }
   ],
   "source": [
    "%matplotlib inline\n",
    "\n",
    "quality_pd = subscription.quality_monitoring.get_table_content(format='pandas')\n",
    "quality_pd.plot.barh(x='id', y='value');"
   ]
  },
  {
   "cell_type": "code",
   "execution_count": 51,
   "metadata": {
    "scrolled": true
   },
   "outputs": [
    {
     "data": {
      "text/plain": [
       "{'deployment_metrics': [{'asset': {'asset_id': '13f276da-1f21-49bb-bbb9-a219d68a81af',\n",
       "    'asset_type': 'model',\n",
       "    'created_at': '2019-10-04T09:22:07.356Z',\n",
       "    'name': 'Spark German Risk Model - Final',\n",
       "    'url': 'https://us-south.ml.cloud.ibm.com/v3/wml_instances/a4729971-8653-4aae-a7ab-624185056799/published_models/13f276da-1f21-49bb-bbb9-a219d68a81af'},\n",
       "   'deployment': {'created_at': '2019-10-04T09:22:07.460Z',\n",
       "    'deployment_id': 'bc0cc692-3db2-4436-ad9b-93733d466627',\n",
       "    'deployment_rn': '',\n",
       "    'deployment_type': 'online',\n",
       "    'name': 'Spark German Risk Deployment - Final',\n",
       "    'scoring_endpoint': {'request_headers': {'Content-Type': 'application/json'},\n",
       "     'url': 'https://us-south.ml.cloud.ibm.com/v3/wml_instances/a4729971-8653-4aae-a7ab-624185056799/deployments/bc0cc692-3db2-4436-ad9b-93733d466627/online'},\n",
       "    'url': 'https://us-south.ml.cloud.ibm.com/v3/wml_instances/a4729971-8653-4aae-a7ab-624185056799/deployments/bc0cc692-3db2-4436-ad9b-93733d466627'},\n",
       "   'metrics': [{'issues': 1,\n",
       "     'metric_type': 'quality',\n",
       "     'timestamp': '2019-10-04T09:22:42.589Z',\n",
       "     'value': {'metrics': [{'name': 'true_positive_rate',\n",
       "        'value': 0.30303030303030304},\n",
       "       {'name': 'area_under_roc', 'value': 0.6284382284382284},\n",
       "       {'name': 'precision', 'value': 0.7692307692307693},\n",
       "       {'name': 'f1_measure', 'value': 0.43478260869565216},\n",
       "       {'name': 'accuracy', 'value': 0.7346938775510204},\n",
       "       {'name': 'log_loss', 'value': 0.44141351029458625},\n",
       "       {'name': 'false_positive_rate', 'value': 0.046153846153846156},\n",
       "       {'name': 'area_under_pr', 'value': 0.6185124399410113},\n",
       "       {'name': 'recall', 'value': 0.30303030303030304}],\n",
       "      'quality': 0.6284382284382284,\n",
       "      'threshold': 0.7}}],\n",
       "   'subscription': {'subscription_id': 'bcb19d94-cfdf-4019-b342-40e0e5a75351',\n",
       "    'url': '/v1/data_marts/27d2155a-b202-44ac-955e-ee20b64f6c89/service_bindings/a4729971-8653-4aae-a7ab-624185056799/subscriptions/bcb19d94-cfdf-4019-b342-40e0e5a75351'}}]}"
      ]
     },
     "execution_count": 51,
     "metadata": {},
     "output_type": "execute_result"
    }
   ],
   "source": [
    "ai_client.data_mart.get_deployment_metrics()"
   ]
  },
  {
   "cell_type": "markdown",
   "metadata": {},
   "source": [
    "# Fairness, drift monitoring and explanations <a name=\"fairness\"></a>"
   ]
  },
  {
   "cell_type": "markdown",
   "metadata": {},
   "source": [
    "### Fairness configuration\n",
    "\n",
    "The code below configures fairness monitoring for our model. It turns on monitoring for two features, Sex and Age. In each case, we must specify:\n",
    "\n",
    "  * Which model feature to monitor\n",
    "  * One or more **majority** groups, which are values of that feature that we expect to receive a higher percentage of favorable outcomes\n",
    "  * One or more **minority** groups, which are values of that feature that we expect to receive a higher percentage of unfavorable outcomes\n",
    "  * The threshold at which we would like OpenScale to display an alert if the fairness measurement falls below (in this case, 95%)\n",
    "\n",
    "Additionally, we must specify which outcomes from the model are favourable outcomes, and which are unfavourable. We must also provide the number of records OpenScale will use to calculate the fairness score. In this case, OpenScale's fairness monitor will run hourly, but will not calculate a new fairness rating until at least 200 records have been added. Finally, to calculate fairness, OpenScale must perform some calculations on the training data, so we provide the dataframe containing the data."
   ]
  },
  {
   "cell_type": "code",
   "execution_count": 52,
   "metadata": {
    "scrolled": true
   },
   "outputs": [],
   "source": [
    "subscription.fairness_monitoring.enable(\n",
    "            features=[\n",
    "                Feature(\"Sex\", majority=['male'], minority=['female'], threshold=0.95),\n",
    "                Feature(\"Age\", majority=[[26,75]], minority=[[18,25]], threshold=0.95)\n",
    "            ],\n",
    "            favourable_classes=['No Risk'],\n",
    "            unfavourable_classes=['Risk'],\n",
    "            min_records=200,\n",
    "            training_data=pd_data\n",
    "        )"
   ]
  },
  {
   "cell_type": "markdown",
   "metadata": {},
   "source": [
    "### Drift configuration"
   ]
  },
  {
   "cell_type": "code",
   "execution_count": 53,
   "metadata": {},
   "outputs": [
    {
     "name": "stdout",
     "output_type": "stream",
     "text": [
      "09:23:18 new\n",
      "09:23:48 in_progress\n",
      "09:24:18 in_progress\n",
      "09:24:48 in_progress\n",
      "09:25:19 in_progress\n",
      "finished\n"
     ]
    }
   ],
   "source": [
    "subscription.drift_monitoring.enable(min_records=100, threshold=0.1)\n",
    "\n",
    "drift_status = None\n",
    "while drift_status != 'finished':\n",
    "    drift_details = subscription.drift_monitoring.get_details()\n",
    "    drift_status = drift_details['parameters']['config_status']['state']\n",
    "    if drift_status != 'finished':\n",
    "        print(datetime.utcnow().strftime('%H:%M:%S'), drift_status)\n",
    "        time.sleep(30)\n",
    "print(drift_status)"
   ]
  },
  {
   "cell_type": "markdown",
   "metadata": {},
   "source": [
    "## Score the model again now that monitoring is configured"
   ]
  },
  {
   "cell_type": "markdown",
   "metadata": {},
   "source": [
    "This next section randomly selects 200 records from the data feed and sends those records to the model for predictions. This is enough to exceed the minimum threshold for records set in the previous section, which allows OpenScale to begin calculating fairness."
   ]
  },
  {
   "cell_type": "code",
   "execution_count": 54,
   "metadata": {},
   "outputs": [
    {
     "name": "stdout",
     "output_type": "stream",
     "text": [
      "-rw-r--r-- 1 spark 4294967294 3.0M Oct  4 09:25 german_credit_feed.json\r\n"
     ]
    }
   ],
   "source": [
    "with io.capture_output() as captured:\n",
    "    !wget https://raw.githubusercontent.com/pmservice/ai-openscale-tutorials/master/assets/historical_data/german_credit_risk/wml/german_credit_feed.json -O german_credit_feed.json\n",
    "!ls -lh german_credit_feed.json"
   ]
  },
  {
   "cell_type": "markdown",
   "metadata": {},
   "source": [
    "Score 200 randomly chosen records"
   ]
  },
  {
   "cell_type": "code",
   "execution_count": 55,
   "metadata": {},
   "outputs": [],
   "source": [
    "import random\n",
    "\n",
    "with open('german_credit_feed.json', 'r') as scoring_file:\n",
    "    scoring_data = json.load(scoring_file)\n",
    "\n",
    "fields = scoring_data['fields']\n",
    "values = []\n",
    "for _ in range(200):\n",
    "    values.append(random.choice(scoring_data['values']))\n",
    "payload_scoring = {\"fields\": fields, \"values\": values}\n",
    "\n",
    "scoring_response = wml_client.deployments.score(credit_risk_scoring_endpoint, payload_scoring)\n",
    "time.sleep(5)"
   ]
  },
  {
   "cell_type": "markdown",
   "metadata": {},
   "source": [
    "**Note:** Now in payload table should be total 208 records."
   ]
  },
  {
   "cell_type": "code",
   "execution_count": 56,
   "metadata": {},
   "outputs": [
    {
     "name": "stdout",
     "output_type": "stream",
     "text": [
      "Number of records in payload table:  118\n"
     ]
    }
   ],
   "source": [
    "print('Number of records in payload table: ', subscription.payload_logging.get_records_count())"
   ]
  },
  {
   "cell_type": "markdown",
   "metadata": {},
   "source": [
    "## Run fairness monitor"
   ]
  },
  {
   "cell_type": "markdown",
   "metadata": {},
   "source": [
    "Kick off a fairness monitor run on current data. The monitor runs hourly, but can be manually initiated using the Python client, the REST API, or the graphical user interface."
   ]
  },
  {
   "cell_type": "code",
   "execution_count": 57,
   "metadata": {
    "scrolled": true
   },
   "outputs": [
    {
     "name": "stdout",
     "output_type": "stream",
     "text": [
      "\n",
      "\n",
      "=======================================================================\n",
      "\n",
      " Counting bias for deployment_uid=bc0cc692-3db2-4436-ad9b-93733d466627 \n",
      "\n",
      "=======================================================================\n",
      "\n",
      "\n",
      "\n",
      "RUNNING.....\n",
      "FINISHED\n",
      "\n",
      "---------------------------\n",
      " Successfully finished run \n",
      "---------------------------\n",
      "\n",
      "\n"
     ]
    }
   ],
   "source": [
    "fairness_run_details = subscription.fairness_monitoring.run(background_mode=False)"
   ]
  },
  {
   "cell_type": "code",
   "execution_count": 58,
   "metadata": {},
   "outputs": [
    {
     "data": {
      "text/html": [
       "<HTML>\n",
       "        <body>\n",
       "            <h3>FairnessMetrics (binding_id=a4729971-8653-4aae-a7ab-624185056799, subscription_id=bcb19d94-cfdf-4019-b342-40e0e5a75351)</h3>\n",
       "            <table style='border: 1px solid #dddddd; font-family: Courier'>\n",
       "                <th style='border: 1px solid #dddddd'>ts</th><th style='border: 1px solid #dddddd'>feature</th><th style='border: 1px solid #dddddd'>feature_value</th><th style='border: 1px solid #dddddd'>fairness_biased</th><th style='border: 1px solid #dddddd'>fairness_value</th><th style='border: 1px solid #dddddd'>fairness_fav_class</th><th style='border: 1px solid #dddddd'>binding_id</th><th style='border: 1px solid #dddddd'>subscription_id</th><th style='border: 1px solid #dddddd'>asset_revision</th><th style='border: 1px solid #dddddd'>deployment_id</th><th style='border: 1px solid #dddddd'>process</th>\n",
       "                <tr><td style='border: 1px solid #dddddd'>2019-10-04 09:25:59.254936+00:00</td><td style='border: 1px solid #dddddd'>Sex</td><td style='border: 1px solid #dddddd'>female</td><td style='border: 1px solid #dddddd'>True</td><td style='border: 1px solid #dddddd'>0.933</td><td style='border: 1px solid #dddddd'>76.0</td><td style='border: 1px solid #dddddd'>a4729971-8653-4aae-a7ab-624185056799</td><td style='border: 1px solid #dddddd'>bcb19d94-cfdf-4019-b342-40e0e5a75351</td><td style='border: 1px solid #dddddd'>bcb19d94-cfdf-4019-b342-40e0e5a75351</td><td style='border: 1px solid #dddddd'>bc0cc692-3db2-4436-ad9b-93733d466627</td><td style='border: 1px solid #dddddd'></td></tr><tr><td style='border: 1px solid #dddddd'>2019-10-04 09:25:59.254936+00:00</td><td style='border: 1px solid #dddddd'>Age</td><td style='border: 1px solid #dddddd'>[18, 25]</td><td style='border: 1px solid #dddddd'>False</td><td style='border: 1px solid #dddddd'>1.075</td><td style='border: 1px solid #dddddd'>86.0</td><td style='border: 1px solid #dddddd'>a4729971-8653-4aae-a7ab-624185056799</td><td style='border: 1px solid #dddddd'>bcb19d94-cfdf-4019-b342-40e0e5a75351</td><td style='border: 1px solid #dddddd'>bcb19d94-cfdf-4019-b342-40e0e5a75351</td><td style='border: 1px solid #dddddd'>bc0cc692-3db2-4436-ad9b-93733d466627</td><td style='border: 1px solid #dddddd'></td></tr>\n",
       "            </table>\n",
       "        </body>\n",
       "        </HTML>"
      ],
      "text/plain": [
       "<IPython.core.display.HTML object>"
      ]
     },
     "metadata": {},
     "output_type": "display_data"
    }
   ],
   "source": [
    "time.sleep(10)\n",
    "\n",
    "subscription.fairness_monitoring.show_table()"
   ]
  },
  {
   "cell_type": "markdown",
   "metadata": {},
   "source": [
    "## Run drift monitor\n",
    "\n",
    "\n",
    "Kick off a drift monitor run on current data. The monitor runs every hour, but can be manually initiated using the Python client, the REST API."
   ]
  },
  {
   "cell_type": "code",
   "execution_count": 59,
   "metadata": {},
   "outputs": [
    {
     "name": "stdout",
     "output_type": "stream",
     "text": [
      "\n",
      "\n",
      "==========================================\n",
      "\n",
      " Waiting for end of drift monitoring run  \n",
      "\n",
      "==========================================\n",
      "\n",
      "\n",
      "\n",
      "RUNNING\n",
      "COMPLETED\n",
      "\n",
      "---------------------------\n",
      " Successfully finished run \n",
      "---------------------------\n",
      "\n",
      "\n"
     ]
    }
   ],
   "source": [
    "drift_run_details = subscription.drift_monitoring.run(background_mode=False)"
   ]
  },
  {
   "cell_type": "code",
   "execution_count": 60,
   "metadata": {},
   "outputs": [
    {
     "data": {
      "text/html": [
       "<div>\n",
       "<style scoped>\n",
       "    .dataframe tbody tr th:only-of-type {\n",
       "        vertical-align: middle;\n",
       "    }\n",
       "\n",
       "    .dataframe tbody tr th {\n",
       "        vertical-align: top;\n",
       "    }\n",
       "\n",
       "    .dataframe thead th {\n",
       "        text-align: right;\n",
       "    }\n",
       "</style>\n",
       "<table border=\"1\" class=\"dataframe\">\n",
       "  <thead>\n",
       "    <tr style=\"text-align: right;\">\n",
       "      <th></th>\n",
       "      <th>ts</th>\n",
       "      <th>id</th>\n",
       "      <th>measurement_id</th>\n",
       "      <th>value</th>\n",
       "      <th>lower limit</th>\n",
       "      <th>upper limit</th>\n",
       "      <th>tags</th>\n",
       "      <th>binding_id</th>\n",
       "      <th>subscription_id</th>\n",
       "      <th>deployment_id</th>\n",
       "    </tr>\n",
       "  </thead>\n",
       "  <tbody>\n",
       "    <tr>\n",
       "      <td>0</td>\n",
       "      <td>2019-10-04 09:26:57.906385+00:00</td>\n",
       "      <td>data_drift_magnitude</td>\n",
       "      <td>7c6dc1a8-a801-4ed4-ae00-7f9040062d19</td>\n",
       "      <td>0.120192</td>\n",
       "      <td></td>\n",
       "      <td></td>\n",
       "      <td></td>\n",
       "      <td>a4729971-8653-4aae-a7ab-624185056799</td>\n",
       "      <td>bcb19d94-cfdf-4019-b342-40e0e5a75351</td>\n",
       "      <td>bc0cc692-3db2-4436-ad9b-93733d466627</td>\n",
       "    </tr>\n",
       "    <tr>\n",
       "      <td>1</td>\n",
       "      <td>2019-10-04 09:26:57.906385+00:00</td>\n",
       "      <td>drift_magnitude</td>\n",
       "      <td>7c6dc1a8-a801-4ed4-ae00-7f9040062d19</td>\n",
       "      <td>-0.018000</td>\n",
       "      <td></td>\n",
       "      <td>0.1</td>\n",
       "      <td></td>\n",
       "      <td>a4729971-8653-4aae-a7ab-624185056799</td>\n",
       "      <td>bcb19d94-cfdf-4019-b342-40e0e5a75351</td>\n",
       "      <td>bc0cc692-3db2-4436-ad9b-93733d466627</td>\n",
       "    </tr>\n",
       "    <tr>\n",
       "      <td>2</td>\n",
       "      <td>2019-10-04 09:26:57.906385+00:00</td>\n",
       "      <td>predicted_accuracy</td>\n",
       "      <td>7c6dc1a8-a801-4ed4-ae00-7f9040062d19</td>\n",
       "      <td>0.810000</td>\n",
       "      <td></td>\n",
       "      <td></td>\n",
       "      <td></td>\n",
       "      <td>a4729971-8653-4aae-a7ab-624185056799</td>\n",
       "      <td>bcb19d94-cfdf-4019-b342-40e0e5a75351</td>\n",
       "      <td>bc0cc692-3db2-4436-ad9b-93733d466627</td>\n",
       "    </tr>\n",
       "  </tbody>\n",
       "</table>\n",
       "</div>"
      ],
      "text/plain": [
       "                                ts                    id  \\\n",
       "0 2019-10-04 09:26:57.906385+00:00  data_drift_magnitude   \n",
       "1 2019-10-04 09:26:57.906385+00:00       drift_magnitude   \n",
       "2 2019-10-04 09:26:57.906385+00:00    predicted_accuracy   \n",
       "\n",
       "                         measurement_id     value lower limit upper limit  \\\n",
       "0  7c6dc1a8-a801-4ed4-ae00-7f9040062d19  0.120192                           \n",
       "1  7c6dc1a8-a801-4ed4-ae00-7f9040062d19 -0.018000                     0.1   \n",
       "2  7c6dc1a8-a801-4ed4-ae00-7f9040062d19  0.810000                           \n",
       "\n",
       "  tags                            binding_id  \\\n",
       "0       a4729971-8653-4aae-a7ab-624185056799   \n",
       "1       a4729971-8653-4aae-a7ab-624185056799   \n",
       "2       a4729971-8653-4aae-a7ab-624185056799   \n",
       "\n",
       "                        subscription_id                         deployment_id  \n",
       "0  bcb19d94-cfdf-4019-b342-40e0e5a75351  bc0cc692-3db2-4436-ad9b-93733d466627  \n",
       "1  bcb19d94-cfdf-4019-b342-40e0e5a75351  bc0cc692-3db2-4436-ad9b-93733d466627  \n",
       "2  bcb19d94-cfdf-4019-b342-40e0e5a75351  bc0cc692-3db2-4436-ad9b-93733d466627  "
      ]
     },
     "execution_count": 60,
     "metadata": {},
     "output_type": "execute_result"
    }
   ],
   "source": [
    "subscription.drift_monitoring.get_table_content()"
   ]
  },
  {
   "cell_type": "markdown",
   "metadata": {},
   "source": [
    "**Note:** You can disable drift monitor running code in cell below."
   ]
  },
  {
   "cell_type": "code",
   "execution_count": 61,
   "metadata": {},
   "outputs": [],
   "source": [
    "# subscription.drift_monitoring.disable()"
   ]
  },
  {
   "cell_type": "markdown",
   "metadata": {},
   "source": [
    "## Configure Explainability"
   ]
  },
  {
   "cell_type": "markdown",
   "metadata": {},
   "source": [
    "Finally, we provide OpenScale with the training data to enable and configure the explainability features."
   ]
  },
  {
   "cell_type": "code",
   "execution_count": 62,
   "metadata": {
    "scrolled": true
   },
   "outputs": [],
   "source": [
    "from ibm_ai_openscale.supporting_classes import *\n",
    "\n",
    "subscription.explainability.enable(training_data=pd_data)"
   ]
  },
  {
   "cell_type": "code",
   "execution_count": 63,
   "metadata": {
    "scrolled": true
   },
   "outputs": [],
   "source": [
    "explainability_details = subscription.explainability.get_details()"
   ]
  },
  {
   "cell_type": "markdown",
   "metadata": {},
   "source": [
    "## Run explanation for sample record"
   ]
  },
  {
   "cell_type": "code",
   "execution_count": 64,
   "metadata": {},
   "outputs": [
    {
     "name": "stdout",
     "output_type": "stream",
     "text": [
      "61c4e92dad96313cf8d77bca09386e11-1\n"
     ]
    }
   ],
   "source": [
    "transaction_id = subscription.payload_logging.get_table_content(limit=1)['scoring_id'].values[0]\n",
    "\n",
    "print(transaction_id)"
   ]
  },
  {
   "cell_type": "code",
   "execution_count": 68,
   "metadata": {},
   "outputs": [
    {
     "name": "stdout",
     "output_type": "stream",
     "text": [
      "\n",
      "\n",
      "================================================================\n",
      "\n",
      " Looking for explanation for 61c4e92dad96313cf8d77bca09386e11-1 \n",
      "\n",
      "================================================================\n",
      "\n",
      "\n",
      "\n",
      "finished\n",
      "\n",
      "---------------------------\n",
      " Successfully finished run \n",
      "---------------------------\n",
      "\n",
      "\n"
     ]
    }
   ],
   "source": [
    "explain_run = subscription.explainability.run(transaction_id=transaction_id, background_mode=False)"
   ]
  },
  {
   "cell_type": "code",
   "execution_count": 69,
   "metadata": {},
   "outputs": [
    {
     "data": {
      "image/png": "[encoded data removed]",
      "text/plain": [
       "<Figure size 432x288 with 1 Axes>"
      ]
     },
     "metadata": {
      "needs_background": "light"
     },
     "output_type": "display_data"
    }
   ],
   "source": [
    "explain_result = pd.DataFrame.from_dict(explain_run['entity']['predictions'][0]['explanation_features'])\n",
    "explain_result.plot.barh(x='feature_name', y='weight', color='g', alpha=0.8);"
   ]
  },
  {
   "cell_type": "markdown",
   "metadata": {},
   "source": [
    "# Custom monitors and metrics <a name=\"custom\"></a>"
   ]
  },
  {
   "cell_type": "markdown",
   "metadata": {},
   "source": [
    "## Register custom monitor"
   ]
  },
  {
   "cell_type": "code",
   "execution_count": 70,
   "metadata": {},
   "outputs": [],
   "source": [
    "def get_definition(monitor_name):\n",
    "    monitors_definitions = ai_client.data_mart.monitors.get_details()['monitor_definitions']\n",
    "    \n",
    "    for definition in monitors_definitions:\n",
    "        if monitor_name == definition['entity']['name']:\n",
    "            return definition\n",
    "    \n",
    "    return None"
   ]
  },
  {
   "cell_type": "code",
   "execution_count": 71,
   "metadata": {},
   "outputs": [],
   "source": [
    "from ibm_ai_openscale.supporting_classes import Metric, Tag\n",
    "\n",
    "monitor_name = 'my model performance'\n",
    "metrics = [Metric(name='sensitivity', lower_limit_default=0.8), Metric(name='specificity', lower_limit_default=0.75)]\n",
    "tags = [Tag(name='region', description='customer geographical region')]\n",
    "\n",
    "existing_definition = get_definition(monitor_name)\n",
    "\n",
    "if existing_definition is None:\n",
    "    my_monitor = ai_client.data_mart.monitors.add(name=monitor_name, metrics=metrics, tags=tags)\n",
    "else:\n",
    "    my_monitor = existing_definition"
   ]
  },
  {
   "cell_type": "markdown",
   "metadata": {},
   "source": [
    "### List monitors"
   ]
  },
  {
   "cell_type": "markdown",
   "metadata": {},
   "source": [
    "### Get monitors uids and details"
   ]
  },
  {
   "cell_type": "code",
   "execution_count": 72,
   "metadata": {},
   "outputs": [
    {
     "name": "stdout",
     "output_type": "stream",
     "text": [
      "my_model_performance\n"
     ]
    }
   ],
   "source": [
    "monitor_uid = my_monitor['metadata']['guid']\n",
    "\n",
    "print(monitor_uid)"
   ]
  },
  {
   "cell_type": "code",
   "execution_count": 73,
   "metadata": {},
   "outputs": [
    {
     "name": "stdout",
     "output_type": "stream",
     "text": [
      "monitor definition details {'entity': {'metrics': [{'expected_direction': 'increasing', 'id': 'sensitivity', 'name': 'sensitivity', 'required': True, 'thresholds': [{'default': 0.8, 'type': 'lower_limit'}]}, {'expected_direction': 'increasing', 'id': 'specificity', 'name': 'specificity', 'required': True, 'thresholds': [{'default': 0.75, 'type': 'lower_limit'}]}], 'name': 'my model performance', 'tags': [{'description': 'customer geographical region', 'id': 'region', 'name': 'region', 'required': True}]}, 'metadata': {'guid': 'my_model_performance', 'url': '/v1/data_marts/27d2155a-b202-44ac-955e-ee20b64f6c89/monitor_definitions/my_model_performance', 'created_at': '2019-10-01T13:25:07.282Z'}}\n"
     ]
    }
   ],
   "source": [
    "my_monitor = ai_client.data_mart.monitors.get_details(monitor_uid=monitor_uid)\n",
    "print('monitor definition details', my_monitor)"
   ]
  },
  {
   "cell_type": "markdown",
   "metadata": {},
   "source": [
    "## Enable custom monitor for subscription"
   ]
  },
  {
   "cell_type": "code",
   "execution_count": 74,
   "metadata": {},
   "outputs": [],
   "source": [
    "from ibm_ai_openscale.supporting_classes import Threshold\n",
    "\n",
    "thresholds = [Threshold(metric_uid='sensitivity', lower_limit=0.9)]\n",
    "subscription.monitoring.enable(monitor_uid=monitor_uid, thresholds=thresholds)"
   ]
  },
  {
   "cell_type": "markdown",
   "metadata": {},
   "source": [
    "### Get monitor configuration details"
   ]
  },
  {
   "cell_type": "code",
   "execution_count": 75,
   "metadata": {},
   "outputs": [
    {
     "data": {
      "text/plain": [
       "{'enabled': True,\n",
       " 'monitor_definition': {'entity': {'metrics': [{'expected_direction': 'increasing',\n",
       "     'id': 'sensitivity',\n",
       "     'name': 'sensitivity',\n",
       "     'required': True,\n",
       "     'thresholds': [{'default': 0.9, 'type': 'lower_limit'}]},\n",
       "    {'expected_direction': 'increasing',\n",
       "     'id': 'specificity',\n",
       "     'name': 'specificity',\n",
       "     'required': True}],\n",
       "   'name': 'my model performance',\n",
       "   'tags': [{'description': 'customer geographical region',\n",
       "     'id': 'region',\n",
       "     'name': 'region',\n",
       "     'required': True}]},\n",
       "  'metadata': {'guid': 'my_model_performance',\n",
       "   'url': '/v1/data_marts/27d2155a-b202-44ac-955e-ee20b64f6c89/monitor_definitions/my_model_performance',\n",
       "   'created_at': '2019-10-01T13:25:07.282Z'}},\n",
       " 'thresholds': [{'metric_id': 'sensitivity',\n",
       "   'type': 'lower_limit',\n",
       "   'value': 0.9}]}"
      ]
     },
     "execution_count": 75,
     "metadata": {},
     "output_type": "execute_result"
    }
   ],
   "source": [
    "subscription.monitoring.get_details(monitor_uid=monitor_uid)"
   ]
  },
  {
   "cell_type": "markdown",
   "metadata": {},
   "source": [
    "## Storing custom metrics"
   ]
  },
  {
   "cell_type": "code",
   "execution_count": 76,
   "metadata": {},
   "outputs": [
    {
     "data": {
      "text/plain": [
       "[{'asset_id': '13f276da-1f21-49bb-bbb9-a219d68a81af',\n",
       "  'binding_id': 'a4729971-8653-4aae-a7ab-624185056799',\n",
       "  'measurement_id': '40789f57-c089-47c2-942a-4cce149b3e1b',\n",
       "  'metrics': [{'region': 'us-south',\n",
       "    'sensitivity': 0.67,\n",
       "    'specificity': 0.78}],\n",
       "  'monitor_definition_id': 'my_model_performance',\n",
       "  'subscription_id': 'bcb19d94-cfdf-4019-b342-40e0e5a75351',\n",
       "  'timestamp': '2019-10-04T09:32:29.372878Z'}]"
      ]
     },
     "execution_count": 76,
     "metadata": {},
     "output_type": "execute_result"
    }
   ],
   "source": [
    "metrics = {\"specificity\": 0.78, \"sensitivity\": 0.67, \"region\": \"us-south\"}\n",
    "\n",
    "subscription.monitoring.store_metrics(monitor_uid=monitor_uid, metrics=metrics)"
   ]
  },
  {
   "cell_type": "markdown",
   "metadata": {},
   "source": [
    "### List and get custom metrics"
   ]
  },
  {
   "cell_type": "code",
   "execution_count": 77,
   "metadata": {},
   "outputs": [
    {
     "data": {
      "text/html": [
       "<HTML>\n",
       "        <body>\n",
       "            <h3>CustomMetrics (binding_id=a4729971-8653-4aae-a7ab-624185056799, subscription_id=bcb19d94-cfdf-4019-b342-40e0e5a75351)</h3>\n",
       "            <table style='border: 1px solid #dddddd; font-family: Courier'>\n",
       "                <th style='border: 1px solid #dddddd'>ts</th><th style='border: 1px solid #dddddd'>id</th><th style='border: 1px solid #dddddd'>measurement_id</th><th style='border: 1px solid #dddddd'>value</th><th style='border: 1px solid #dddddd'>lower limit</th><th style='border: 1px solid #dddddd'>upper limit</th><th style='border: 1px solid #dddddd'>tags</th><th style='border: 1px solid #dddddd'>binding_id</th><th style='border: 1px solid #dddddd'>subscription_id</th><th style='border: 1px solid #dddddd'>deployment_id</th>\n",
       "                <tr><td style='border: 1px solid #dddddd'>2019-10-04 09:32:29.372878+00:00</td><td style='border: 1px solid #dddddd'>sensitivity</td><td style='border: 1px solid #dddddd'>40789f57-c089-47c2-942a-4cce149b3e1b</td><td style='border: 1px solid #dddddd'>0.67</td><td style='border: 1px solid #dddddd'>0.9</td><td style='border: 1px solid #dddddd'></td><td style='border: 1px solid #dddddd'>region: us-south</td><td style='border: 1px solid #dddddd'>a4729971-8653-4aae-a7ab-624185056799</td><td style='border: 1px solid #dddddd'>bcb19d94-cfdf-4019-b342-40e0e5a75351</td><td style='border: 1px solid #dddddd'>bc0cc692-3db2-4436-ad9b-93733d466627</td></tr><tr><td style='border: 1px solid #dddddd'>2019-10-04 09:32:29.372878+00:00</td><td style='border: 1px solid #dddddd'>specificity</td><td style='border: 1px solid #dddddd'>40789f57-c089-47c2-942a-4cce149b3e1b</td><td style='border: 1px solid #dddddd'>0.78</td><td style='border: 1px solid #dddddd'></td><td style='border: 1px solid #dddddd'></td><td style='border: 1px solid #dddddd'>region: us-south</td><td style='border: 1px solid #dddddd'>a4729971-8653-4aae-a7ab-624185056799</td><td style='border: 1px solid #dddddd'>bcb19d94-cfdf-4019-b342-40e0e5a75351</td><td style='border: 1px solid #dddddd'>bc0cc692-3db2-4436-ad9b-93733d466627</td></tr>\n",
       "            </table>\n",
       "        </body>\n",
       "        </HTML>"
      ],
      "text/plain": [
       "<IPython.core.display.HTML object>"
      ]
     },
     "metadata": {},
     "output_type": "display_data"
    }
   ],
   "source": [
    "time.sleep(5)\n",
    "\n",
    "subscription.monitoring.show_table(monitor_uid=monitor_uid)"
   ]
  },
  {
   "cell_type": "code",
   "execution_count": 78,
   "metadata": {},
   "outputs": [
    {
     "data": {
      "text/plain": [
       "[{'asset_id': '13f276da-1f21-49bb-bbb9-a219d68a81af',\n",
       "  'binding_id': 'a4729971-8653-4aae-a7ab-624185056799',\n",
       "  'tags': [{'id': 'region', 'value': 'us-south'}],\n",
       "  'ts': '2019-10-04T09:32:29.372878Z',\n",
       "  'measurement_id': '40789f57-c089-47c2-942a-4cce149b3e1b',\n",
       "  'monitor_definition_id': 'my_model_performance',\n",
       "  'subscription_id': 'bcb19d94-cfdf-4019-b342-40e0e5a75351',\n",
       "  'metrics': [{'lower_limit': 0.9, 'id': 'sensitivity', 'value': 0.67},\n",
       "   {'id': 'specificity', 'value': 0.78}]}]"
      ]
     },
     "execution_count": 78,
     "metadata": {},
     "output_type": "execute_result"
    }
   ],
   "source": [
    "custom_metrics = subscription.monitoring.get_metrics(monitor_uid=monitor_uid, deployment_uid='credit')\n",
    "custom_metrics"
   ]
  },
  {
   "cell_type": "code",
   "execution_count": 79,
   "metadata": {},
   "outputs": [
    {
     "data": {
      "image/png": "[encoded data removed]",
      "text/plain": [
       "<Figure size 432x288 with 1 Axes>"
      ]
     },
     "metadata": {
      "needs_background": "light"
     },
     "output_type": "display_data"
    }
   ],
   "source": [
    "custom_metrics_pandas = subscription.monitoring.get_table_content(monitor_uid=monitor_uid)\n",
    "\n",
    "%matplotlib inline\n",
    "custom_metrics_pandas.plot.barh(x='id', y='value');"
   ]
  },
  {
   "cell_type": "markdown",
   "metadata": {},
   "source": [
    "# Payload analytics <a name=\"analytics\"></a>"
   ]
  },
  {
   "cell_type": "markdown",
   "metadata": {},
   "source": [
    "## Run data distributions calculation"
   ]
  },
  {
   "cell_type": "code",
   "execution_count": 80,
   "metadata": {},
   "outputs": [
    {
     "name": "stdout",
     "output_type": "stream",
     "text": [
      "\n",
      "\n",
      "===============================================================================\n",
      "\n",
      " Waiting for end of data distribution run 322ae7ef-16c4-4858-83a9-ef7b5739f5f7 \n",
      "\n",
      "===============================================================================\n",
      "\n",
      "\n",
      "\n",
      "completed\n",
      "\n",
      "---------------------------\n",
      " Successfully finished run \n",
      "---------------------------\n",
      "\n",
      "\n"
     ]
    }
   ],
   "source": [
    "from datetime import datetime\n",
    "\n",
    "start_date = \"2018-01-01T00:00:00.00Z\"\n",
    "end_date = datetime.utcnow().isoformat() + \"Z\"\n",
    "\n",
    "sex_distribution = subscription.payload_logging.data_distribution.run(\n",
    "            start_date=start_date,\n",
    "            end_date=end_date,\n",
    "            group=['predictedLabel', 'Sex'],\n",
    "            agg=['count'])"
   ]
  },
  {
   "cell_type": "markdown",
   "metadata": {},
   "source": [
    "## Get data distributions as pandas dataframe"
   ]
  },
  {
   "cell_type": "code",
   "execution_count": 81,
   "metadata": {},
   "outputs": [
    {
     "data": {
      "text/html": [
       "<div>\n",
       "<style scoped>\n",
       "    .dataframe tbody tr th:only-of-type {\n",
       "        vertical-align: middle;\n",
       "    }\n",
       "\n",
       "    .dataframe tbody tr th {\n",
       "        vertical-align: top;\n",
       "    }\n",
       "\n",
       "    .dataframe thead th {\n",
       "        text-align: right;\n",
       "    }\n",
       "</style>\n",
       "<table border=\"1\" class=\"dataframe\">\n",
       "  <thead>\n",
       "    <tr style=\"text-align: right;\">\n",
       "      <th></th>\n",
       "      <th>predictedLabel</th>\n",
       "      <th>Sex</th>\n",
       "      <th>count</th>\n",
       "    </tr>\n",
       "  </thead>\n",
       "  <tbody>\n",
       "    <tr>\n",
       "      <td>0</td>\n",
       "      <td>No Risk</td>\n",
       "      <td>female</td>\n",
       "      <td>67</td>\n",
       "    </tr>\n",
       "    <tr>\n",
       "      <td>1</td>\n",
       "      <td>No Risk</td>\n",
       "      <td>male</td>\n",
       "      <td>100</td>\n",
       "    </tr>\n",
       "    <tr>\n",
       "      <td>2</td>\n",
       "      <td>Risk</td>\n",
       "      <td>female</td>\n",
       "      <td>3</td>\n",
       "    </tr>\n",
       "    <tr>\n",
       "      <td>3</td>\n",
       "      <td>Risk</td>\n",
       "      <td>male</td>\n",
       "      <td>38</td>\n",
       "    </tr>\n",
       "  </tbody>\n",
       "</table>\n",
       "</div>"
      ],
      "text/plain": [
       "  predictedLabel     Sex  count\n",
       "0        No Risk  female     67\n",
       "1        No Risk    male    100\n",
       "2           Risk  female      3\n",
       "3           Risk    male     38"
      ]
     },
     "execution_count": 81,
     "metadata": {},
     "output_type": "execute_result"
    }
   ],
   "source": [
    "sex_distribution_run_uid = sex_distribution['id']\n",
    "distributions_pd = subscription.payload_logging.data_distribution.get_run_result(run_id=sex_distribution_run_uid, format='pandas')\n",
    "distributions_pd"
   ]
  },
  {
   "cell_type": "code",
   "execution_count": 82,
   "metadata": {},
   "outputs": [
    {
     "data": {
      "image/png": "[encoded data removed]",
      "text/plain": [
       "<Figure size 432x288 with 1 Axes>"
      ]
     },
     "metadata": {
      "needs_background": "light"
     },
     "output_type": "display_data"
    }
   ],
   "source": [
    "subscription.payload_logging.data_distribution.show_chart(sex_distribution_run_uid);"
   ]
  },
  {
   "cell_type": "code",
   "execution_count": 83,
   "metadata": {},
   "outputs": [
    {
     "name": "stdout",
     "output_type": "stream",
     "text": [
      "\n",
      "\n",
      "===============================================================================\n",
      "\n",
      " Waiting for end of data distribution run 854fd0c9-de2f-4203-85c1-073e74bb8b52 \n",
      "\n",
      "===============================================================================\n",
      "\n",
      "\n",
      "\n",
      "completed\n",
      "\n",
      "---------------------------\n",
      " Successfully finished run \n",
      "---------------------------\n",
      "\n",
      "\n"
     ]
    }
   ],
   "source": [
    "credit_history_distribution = subscription.payload_logging.data_distribution.run(\n",
    "            start_date=start_date,\n",
    "            end_date=end_date,\n",
    "            group=['predictedLabel', 'CreditHistory'],\n",
    "            agg=['count'])"
   ]
  },
  {
   "cell_type": "code",
   "execution_count": 84,
   "metadata": {},
   "outputs": [
    {
     "data": {
      "image/png": "[encoded data removed]",
      "text/plain": [
       "<Figure size 432x288 with 1 Axes>"
      ]
     },
     "metadata": {
      "needs_background": "light"
     },
     "output_type": "display_data"
    }
   ],
   "source": [
    "credit_history_distribution_run_uid = credit_history_distribution['id']\n",
    "\n",
    "subscription.payload_logging.data_distribution.show_chart(credit_history_distribution_run_uid);"
   ]
  },
  {
   "cell_type": "markdown",
   "metadata": {},
   "source": [
    "# Business Application <a name=\"application\"></a>"
   ]
  },
  {
   "cell_type": "code",
   "execution_count": 85,
   "metadata": {},
   "outputs": [
    {
     "name": "stdout",
     "output_type": "stream",
     "text": [
      "27d2155a-b202-44ac-955e-ee20b64f6c89\n"
     ]
    }
   ],
   "source": [
    "data_mart_id = subscription.get_details()['metadata']['url'].split('/service_bindings')[0].split('marts/')[1]\n",
    "print(data_mart_id)"
   ]
  },
  {
   "cell_type": "code",
   "execution_count": 86,
   "metadata": {},
   "outputs": [
    {
     "name": "stdout",
     "output_type": "stream",
     "text": [
      "https://api.aiopenscale.cloud.ibm.com/27d2155a-b202-44ac-955e-ee20b64f6c89/v2/business_applications\n"
     ]
    }
   ],
   "source": [
    "business_application_url = \"/\".join((WOS_CREDENTIALS['url'], data_mart_id,\"v2\", \"business_applications\" ))\n",
    "print(business_application_url)"
   ]
  },
  {
   "cell_type": "code",
   "execution_count": 87,
   "metadata": {},
   "outputs": [],
   "source": [
    "payload_business_app = {\n",
    "    \"name\": \"Credit Risk Application\",\n",
    "    \"description\": \"Test Business Application\",\n",
    "    \"payload_fields\": [\n",
    "        {\n",
    "            \"name\": \"LoanDuration\",\n",
    "            \"type\": \"number\",\n",
    "        },\n",
    "        {\n",
    "            \"name\": \"LoanPurpose\",\n",
    "            \"type\": \"string\",\n",
    "        },\n",
    "        {\n",
    "            \"name\": \"LoanAmount\",\n",
    "            \"type\": \"number\",\n",
    "        },\n",
    "        {\n",
    "            \"name\": \"InstallmentPercent\",\n",
    "            \"type\": \"number\",\n",
    "        },\n",
    "        {\n",
    "            \"name\": \"AcceptedPercent\",\n",
    "            \"type\": \"number\",\n",
    "        },\n",
    "         {\n",
    "            \"name\": \"Accepted\",\n",
    "            \"type\": \"number\",\n",
    "        },\n",
    "        {\n",
    "            \"name\": \"AmountGranted\",\n",
    "            \"type\": \"number\",\n",
    "        },\n",
    "        {\n",
    "            \"name\": \"transaction_id\",\n",
    "            \"type\": \"string\",\n",
    "        }     \n",
    "    ],\n",
    "    \"business_metrics\": [\n",
    "        {\n",
    "            \"name\": \"Accepted Credits\",\n",
    "            \"expected_direction\": \"increasing\",\n",
    "            \"thresholds\": [\n",
    "                {\n",
    "                    \"type\": \"lower_limit\",\n",
    "                    \"default\": 0,\n",
    "                }\n",
    "            ],\n",
    "            \"required\": False,\n",
    "            \"calculation_metadata\": {\n",
    "                \"field_name\": \"Accepted\",\n",
    "                \"aggregation\": \"sum\",\n",
    "                \"time_frame\": {\n",
    "                    \"count\": 1,\n",
    "                    \"unit\": \"day\"\n",
    "                }\n",
    "            }\n",
    "        },\n",
    "        {\n",
    "            \"name\": \"Credit Amount Granted\",\n",
    "            \"expected_direction\": \"increasing\",\n",
    "            \"thresholds\": [\n",
    "                {\n",
    "                    \"type\": \"lower_limit\",\n",
    "                    \"default\": 10000,\n",
    "                }\n",
    "            ],\n",
    "            \"required\": False,\n",
    "            \"calculation_metadata\": {\n",
    "                \"field_name\": \"AmountGranted\",\n",
    "                \"aggregation\": \"sum\",\n",
    "                \"time_frame\": {\n",
    "                    \"count\": 1,\n",
    "                    \"unit\": \"day\"\n",
    "                }\n",
    "            }\n",
    "        }\n",
    "    ],\n",
    "    \"subscription_ids\": subscriptions_uids\n",
    "}\n",
    "\n",
    "response = requests.post(url=business_application_url, headers=ai_client._get_headers(), json=payload_business_app)\n",
    "business_application_id = response.json()['metadata']['id']\n",
    "time.sleep(10)"
   ]
  },
  {
   "cell_type": "code",
   "execution_count": 88,
   "metadata": {},
   "outputs": [],
   "source": [
    "## Get business application details:"
   ]
  },
  {
   "cell_type": "code",
   "execution_count": 89,
   "metadata": {},
   "outputs": [
    {
     "name": "stdout",
     "output_type": "stream",
     "text": [
      "https://api.aiopenscale.cloud.ibm.com/27d2155a-b202-44ac-955e-ee20b64f6c89/v2/business_applications/6f2617e2-a841-4a43-a4f0-bc927a8fcca3\n"
     ]
    }
   ],
   "source": [
    "business_application_details_url = \"/\".join((business_application_url, business_application_id))\n",
    "print(business_application_details_url)"
   ]
  },
  {
   "cell_type": "code",
   "execution_count": 90,
   "metadata": {},
   "outputs": [
    {
     "name": "stdout",
     "output_type": "stream",
     "text": [
      "active\n"
     ]
    }
   ],
   "source": [
    "business_app_status = None\n",
    "while business_app_status != 'active':\n",
    "    business_application_details = requests.get(url = business_application_details_url, headers=ai_client._get_headers()).json()\n",
    "    business_app_status = business_application_details['entity']['status']['state']\n",
    "    if business_app_status != 'active':\n",
    "        print(datetime.utcnow().strftime('%H:%M:%S'), business_app_status)\n",
    "        time.sleep(10)\n",
    "print(business_app_status)"
   ]
  },
  {
   "cell_type": "code",
   "execution_count": 91,
   "metadata": {},
   "outputs": [],
   "source": [
    "business_payload_data_set_id = business_application_details['entity']['business_payload_data_set_id']\n",
    "business_metrics_monitor_instance_id =  business_application_details['entity']['business_metrics_monitor_instance_id']"
   ]
  },
  {
   "cell_type": "code",
   "execution_count": 92,
   "metadata": {},
   "outputs": [
    {
     "name": "stdout",
     "output_type": "stream",
     "text": [
      "https://api.aiopenscale.cloud.ibm.com/27d2155a-b202-44ac-955e-ee20b64f6c89/v2/monitor_instances\n"
     ]
    }
   ],
   "source": [
    "monitor_instances_url = \"/\".join((WOS_CREDENTIALS['url'], data_mart_id,\"v2\", \"monitor_instances\" ))\n",
    "print(monitor_instances_url)"
   ]
  },
  {
   "cell_type": "code",
   "execution_count": 93,
   "metadata": {},
   "outputs": [],
   "source": [
    "response = requests.get(url=monitor_instances_url, headers=ai_client._get_headers())\n",
    "instances = response.json()['monitor_instances']\n",
    "\n",
    "for instance in instances:\n",
    "    if 'managed_by' in instance['entity'] and instance['entity']['managed_by'] == business_application_id:\n",
    "        if instance['entity']['monitor_definition_id'] == 'correlations':\n",
    "            corr_monitor_instance_id = instance['metadata']['id']\n",
    "\n",
    "    if instance['entity']['monitor_definition_id'] == 'drift':\n",
    "        drift_instance_id = instance['metadata']['id']"
   ]
  },
  {
   "cell_type": "markdown",
   "metadata": {},
   "source": [
    "# Historical data <a name=\"historical\"></a>"
   ]
  },
  {
   "cell_type": "code",
   "execution_count": 94,
   "metadata": {},
   "outputs": [],
   "source": [
    "historyDays = 7"
   ]
  },
  {
   "cell_type": "markdown",
   "metadata": {},
   "source": [
    " ## Insert historical payloads"
   ]
  },
  {
   "cell_type": "markdown",
   "metadata": {},
   "source": [
    "The next section of the notebook downloads and writes historical data to the payload and measurement tables to simulate a production model that has been monitored and receiving regular traffic for the last seven days. This historical data can be viewed in the Watson OpenScale user interface. The code uses the Python and REST APIs to write this data."
   ]
  },
  {
   "cell_type": "code",
   "execution_count": 95,
   "metadata": {
    "scrolled": false
   },
   "outputs": [
    {
     "name": "stdout",
     "output_type": "stream",
     "text": [
      "-rw-r--r-- 1 spark 4294967294 4.8M Oct  4 09:34 history_payloads_0.json\r\n",
      "-rw-r--r-- 1 spark 4294967294 4.8M Oct  4 09:34 history_payloads_1.json\r\n",
      "-rw-r--r-- 1 spark 4294967294 4.8M Oct  4 09:34 history_payloads_2.json\r\n",
      "-rw-r--r-- 1 spark 4294967294 4.8M Oct  4 09:34 history_payloads_3.json\r\n",
      "-rw-r--r-- 1 spark 4294967294 4.8M Oct  4 09:34 history_payloads_4.json\r\n",
      "-rw-r--r-- 1 spark 4294967294 4.8M Oct  4 09:34 history_payloads_5.json\r\n",
      "-rw-r--r-- 1 spark 4294967294 4.8M Oct  4 09:34 history_payloads_6.json\r\n"
     ]
    }
   ],
   "source": [
    "with io.capture_output() as captured:\n",
    "    !wget https://raw.githubusercontent.com/pmservice/ai-openscale-tutorials/master/assets/historical_data/german_credit_risk/wml/history_payloads_0.json\n",
    "    !wget https://raw.githubusercontent.com/pmservice/ai-openscale-tutorials/master/assets/historical_data/german_credit_risk/wml/history_payloads_1.json\n",
    "    !wget https://raw.githubusercontent.com/pmservice/ai-openscale-tutorials/master/assets/historical_data/german_credit_risk/wml/history_payloads_2.json\n",
    "    !wget https://raw.githubusercontent.com/pmservice/ai-openscale-tutorials/master/assets/historical_data/german_credit_risk/wml/history_payloads_3.json\n",
    "    !wget https://raw.githubusercontent.com/pmservice/ai-openscale-tutorials/master/assets/historical_data/german_credit_risk/wml/history_payloads_4.json\n",
    "    !wget https://raw.githubusercontent.com/pmservice/ai-openscale-tutorials/master/assets/historical_data/german_credit_risk/wml/history_payloads_5.json\n",
    "    !wget https://raw.githubusercontent.com/pmservice/ai-openscale-tutorials/master/assets/historical_data/german_credit_risk/wml/history_payloads_6.json\n",
    "!ls -lh history_payloads_*.json"
   ]
  },
  {
   "cell_type": "code",
   "execution_count": 96,
   "metadata": {
    "scrolled": false
   },
   "outputs": [
    {
     "name": "stdout",
     "output_type": "stream",
     "text": [
      "Loading day /home/spark/shared/history_payloads_0.json\n",
      "Loading day /home/spark/shared/history_payloads_1.json\n",
      "Loading day /home/spark/shared/history_payloads_2.json\n",
      "Loading day /home/spark/shared/history_payloads_3.json\n",
      "Loading day /home/spark/shared/history_payloads_4.json\n",
      "Loading day /home/spark/shared/history_payloads_5.json\n",
      "Loading day /home/spark/shared/history_payloads_6.json\n"
     ]
    }
   ],
   "source": [
    "from ibm_ai_openscale.utils.inject_demo_data import DemoData\n",
    "import os\n",
    "\n",
    "historicalData = DemoData(aios_credentials=WOS_CREDENTIALS)\n",
    "historical_data_path=os.getcwd()\n",
    "\n",
    "historicalData.load_historical_scoring_payload(subscription, deployment_uid,file_path=historical_data_path, day_template=\"history_payloads_{}.json\" )"
   ]
  },
  {
   "cell_type": "code",
   "execution_count": 97,
   "metadata": {
    "scrolled": true
   },
   "outputs": [
    {
     "name": "stdout",
     "output_type": "stream",
     "text": [
      "https://api.aiopenscale.cloud.ibm.com/v1/data_marts/27d2155a-b202-44ac-955e-ee20b64f6c89/metrics\n"
     ]
    }
   ],
   "source": [
    "performance_metrics_url = WOS_CREDENTIALS['url'] + subscription.get_details()['metadata']['url'].split('/service_bindings')[0] + '/metrics'\n",
    "print(performance_metrics_url)"
   ]
  },
  {
   "cell_type": "markdown",
   "metadata": {},
   "source": [
    "## Insert historical fairness metrics"
   ]
  },
  {
   "cell_type": "code",
   "execution_count": 98,
   "metadata": {},
   "outputs": [
    {
     "name": "stdout",
     "output_type": "stream",
     "text": [
      "-rw-r--r-- 1 spark 4294967294 1.4M Oct  4 09:35 history_fairness.json\r\n"
     ]
    }
   ],
   "source": [
    "with io.capture_output() as captured:\n",
    "    !wget https://raw.githubusercontent.com/pmservice/ai-openscale-tutorials/master/assets/historical_data/german_credit_risk/wml/history_fairness.json -O history_fairness.json\n",
    "!ls -lh history_fairness.json"
   ]
  },
  {
   "cell_type": "markdown",
   "metadata": {},
   "source": [
    "## Insert historical debias metrics"
   ]
  },
  {
   "cell_type": "code",
   "execution_count": 99,
   "metadata": {},
   "outputs": [
    {
     "name": "stdout",
     "output_type": "stream",
     "text": [
      "-rw-r--r-- 1 spark 4294967294 553K Oct  4 09:35 history_debias.json\r\n"
     ]
    }
   ],
   "source": [
    "with io.capture_output() as captured:\n",
    "    !wget https://raw.githubusercontent.com/pmservice/ai-openscale-tutorials/master/assets/historical_data/german_credit_risk/wml/history_debias.json -O history_debias.json\n",
    "!ls -lh history_debias.json"
   ]
  },
  {
   "cell_type": "code",
   "execution_count": 100,
   "metadata": {},
   "outputs": [
    {
     "name": "stdout",
     "output_type": "stream",
     "text": [
      "Loading day 1\n",
      "Loading day 2\n",
      "Loading day 3\n",
      "Loading day 4\n",
      "Loading day 5\n",
      "Loading day 6\n",
      "Loading day 7\n",
      "Finished\n"
     ]
    }
   ],
   "source": [
    "with open('history_debias.json', 'r') as history_file:\n",
    "    payloads = json.load(history_file)\n",
    "\n",
    "for day in range(historyDays):\n",
    "    print('Loading day', day + 1)\n",
    "    debias_metrics = []\n",
    "    for hour in range(24):\n",
    "        score_time = (datetime.utcnow() + timedelta(hours=(-(24*day + hour + 1)))).strftime('%Y-%m-%dT%H:%M:%SZ')\n",
    "        index = (day * 24 + hour) % len(payloads) # wrap around and reuse values if needed\n",
    "\n",
    "        debiasMetric = {\n",
    "            'metric_type': 'debiased_fairness',\n",
    "            'binding_id': binding_uid,\n",
    "            'timestamp': score_time,\n",
    "            'subscription_id': model_uid,\n",
    "            'asset_revision': model_uid,\n",
    "            'deployment_id': deployment_uid,\n",
    "            'value': payloads[index]\n",
    "        }\n",
    "\n",
    "        debias_metrics.append(debiasMetric)\n",
    "    response = requests.post(performance_metrics_url, json=debias_metrics, headers=ai_client._get_headers())\n",
    "print('Finished')"
   ]
  },
  {
   "cell_type": "markdown",
   "metadata": {},
   "source": [
    "## Insert historical quality metrics"
   ]
  },
  {
   "cell_type": "code",
   "execution_count": 101,
   "metadata": {
    "scrolled": true
   },
   "outputs": [
    {
     "name": "stdout",
     "output_type": "stream",
     "text": [
      "Day 1\n",
      "Day 2\n",
      "Day 3\n",
      "Day 4\n",
      "Day 5\n",
      "Day 6\n",
      "Day 7\n",
      "Finished\n"
     ]
    }
   ],
   "source": [
    "measurements = [0.76, 0.78, 0.68, 0.72, 0.73, 0.77, 0.80]\n",
    "for day in range(historyDays):\n",
    "    quality_metrics = []\n",
    "    print('Day', day + 1)\n",
    "    for hour in range(24):\n",
    "        score_time = (datetime.utcnow() + timedelta(hours=(-(24*day + hour + 1)))).strftime('%Y-%m-%dT%H:%M:%SZ')\n",
    "        qualityMetric = {\n",
    "            'metric_type': 'quality',\n",
    "            'binding_id': binding_uid,\n",
    "            'timestamp': score_time,\n",
    "            'subscription_id': model_uid,\n",
    "            'asset_revision': model_uid,\n",
    "            'deployment_id': deployment_uid,\n",
    "            'value': {\n",
    "                'quality': measurements[day],\n",
    "                'threshold': 0.7,\n",
    "                'metrics': [\n",
    "                    {\n",
    "                        'name': 'auroc',\n",
    "                        'value': measurements[day],\n",
    "                        'threshold': 0.7\n",
    "                    }\n",
    "                ]\n",
    "            }\n",
    "        }\n",
    "        \n",
    "        quality_metrics.append(qualityMetric)\n",
    "    \n",
    "    response = requests.post(performance_metrics_url, json=quality_metrics, headers=ai_client._get_headers())\n",
    "\n",
    "print('Finished')"
   ]
  },
  {
   "cell_type": "markdown",
   "metadata": {},
   "source": [
    "## Insert historical confusion matrixes"
   ]
  },
  {
   "cell_type": "code",
   "execution_count": 102,
   "metadata": {},
   "outputs": [
    {
     "name": "stdout",
     "output_type": "stream",
     "text": [
      "-rw-r--r-- 1 spark 4294967294 79K Oct  4 09:35 history_quality_metrics.json\r\n"
     ]
    }
   ],
   "source": [
    "with io.capture_output() as captured:\n",
    "    !wget https://raw.githubusercontent.com/pmservice/ai-openscale-tutorials/master/assets/historical_data/german_credit_risk/wml/history_quality_metrics.json -O history_quality_metrics.json\n",
    "!ls -lh history_quality_metrics.json"
   ]
  },
  {
   "cell_type": "code",
   "execution_count": 103,
   "metadata": {},
   "outputs": [
    {
     "name": "stdout",
     "output_type": "stream",
     "text": [
      "https://api.aiopenscale.cloud.ibm.com/v1/data_marts/27d2155a-b202-44ac-955e-ee20b64f6c89/measurements\n"
     ]
    }
   ],
   "source": [
    "measurements_url = WOS_CREDENTIALS['url'] + subscription.get_details()['metadata']['url'].split('/service_bindings')[0] + '/measurements'\n",
    "print(measurements_url)"
   ]
  },
  {
   "cell_type": "code",
   "execution_count": 104,
   "metadata": {},
   "outputs": [
    {
     "name": "stdout",
     "output_type": "stream",
     "text": [
      "Day 1\n",
      "Day 2\n",
      "Day 3\n",
      "Day 4\n",
      "Day 5\n",
      "Day 6\n",
      "Day 7\n",
      "Finished\n"
     ]
    }
   ],
   "source": [
    "with open('history_quality_metrics.json') as json_file:\n",
    "    records = json.load(json_file)\n",
    "    \n",
    "for day in range(historyDays):\n",
    "    index = 0\n",
    "    measurments = []\n",
    "    print('Day', day + 1)\n",
    "    \n",
    "    for hour in range(24):\n",
    "        score_time = (datetime.utcnow() + timedelta(hours=(-(24*day + hour + 1)))).strftime('%Y-%m-%dT%H:%M:%SZ')\n",
    "\n",
    "        measurement = {\n",
    "            \"monitor_definition_id\": 'quality',\n",
    "            \"binding_id\": subscription.binding_uid,\n",
    "            \"subscription_id\": subscription.uid,\n",
    "            \"asset_id\": subscription.source_uid,\n",
    "            'metrics': [records[index]['metrics']],\n",
    "            'sources': [records[index]['sources']],\n",
    "            'timestamp': score_time\n",
    "        }\n",
    "\n",
    "        measurments.append(measurement)\n",
    "        index+=1\n",
    "\n",
    "    response = requests.post(measurements_url, json=measurments, headers=ai_client._get_headers())\n",
    "\n",
    "print('Finished')"
   ]
  },
  {
   "cell_type": "markdown",
   "metadata": {},
   "source": [
    "## Insert historical performance metrics"
   ]
  },
  {
   "cell_type": "code",
   "execution_count": 105,
   "metadata": {},
   "outputs": [
    {
     "name": "stdout",
     "output_type": "stream",
     "text": [
      "Day 1\n",
      "Day 2\n",
      "Day 3\n",
      "Day 4\n",
      "Day 5\n",
      "Day 6\n",
      "Day 7\n",
      "Finished\n"
     ]
    }
   ],
   "source": [
    "for day in range(historyDays):\n",
    "    performance_metrics = []\n",
    "    print('Day', day + 1)\n",
    "    for hour in range(24):\n",
    "        score_time = (datetime.utcnow() + timedelta(hours=(-(24*day + hour + 1)))).strftime('%Y-%m-%dT%H:%M:%SZ')\n",
    "        score_count = random.randint(60, 600)\n",
    "        score_resp = random.uniform(60, 300)\n",
    "\n",
    "        performanceMetric = {\n",
    "            'metric_type': 'performance',\n",
    "            'binding_id': binding_uid,\n",
    "            'timestamp': score_time,\n",
    "            'subscription_id': model_uid,\n",
    "            'asset_revision': model_uid,\n",
    "            'deployment_id': deployment_uid,\n",
    "            'value': {\n",
    "                'response_time': score_resp,\n",
    "                'records': score_count\n",
    "            }\n",
    "        }\n",
    "        performance_metrics.append(performanceMetric)\n",
    "\n",
    "    response = requests.post(performance_metrics_url, json=performance_metrics, headers=ai_client._get_headers())\n",
    "\n",
    "print('Finished')"
   ]
  },
  {
   "cell_type": "markdown",
   "metadata": {},
   "source": [
    "## Insert historical manual labeling"
   ]
  },
  {
   "cell_type": "code",
   "execution_count": 106,
   "metadata": {},
   "outputs": [
    {
     "name": "stdout",
     "output_type": "stream",
     "text": [
      "https://api.aiopenscale.cloud.ibm.com/v1/data_marts/27d2155a-b202-44ac-955e-ee20b64f6c89/manual_labelings\n"
     ]
    }
   ],
   "source": [
    "manual_labeling_url = WOS_CREDENTIALS['url'] + subscription.get_details()['metadata']['url'].split('/service_bindings')[0] + '/manual_labelings'\n",
    "print(manual_labeling_url)"
   ]
  },
  {
   "cell_type": "code",
   "execution_count": 107,
   "metadata": {},
   "outputs": [
    {
     "name": "stdout",
     "output_type": "stream",
     "text": [
      "-rw-r--r-- 1 spark 4294967294 926K Oct  4 09:35 history_manual_labeling.json\r\n"
     ]
    }
   ],
   "source": [
    "with io.capture_output() as captured:\n",
    "    !wget https://raw.githubusercontent.com/pmservice/ai-openscale-tutorials/master/assets/historical_data/german_credit_risk/wml/history_manual_labeling.json -O history_manual_labeling.json\n",
    "!ls -lh history_manual_labeling.json"
   ]
  },
  {
   "cell_type": "code",
   "execution_count": 108,
   "metadata": {},
   "outputs": [
    {
     "name": "stdout",
     "output_type": "stream",
     "text": [
      "Loading day 1\n",
      "Loading day 2\n",
      "Loading day 3\n",
      "Loading day 4\n",
      "Loading day 5\n",
      "Loading day 6\n",
      "Loading day 7\n",
      "Finished\n"
     ]
    }
   ],
   "source": [
    "with open('history_manual_labeling.json', 'r') as history_file:\n",
    "    records = json.load(history_file)\n",
    "\n",
    "for day in range(historyDays):\n",
    "    print('Loading day', day + 1)\n",
    "    record_json = []\n",
    "    for hour in range(24):\n",
    "        for record in records:\n",
    "            if record['fastpath_history_day'] == day and record['fastpath_history_hour'] == hour:\n",
    "                record['binding_id'] = binding_uid\n",
    "                record['subscription_id'] = model_uid\n",
    "                record['asset_revision'] = model_uid\n",
    "                record['deployment_id'] = deployment_uid\n",
    "                record['scoring_timestamp'] = (datetime.utcnow() + timedelta(hours=(-(24*day + hour + 1)))).strftime('%Y-%m-%dT%H:%M:%SZ')\n",
    "                record_json.append(record)\n",
    "    response = requests.post(manual_labeling_url, json=record_json, headers=ai_client._get_headers())\n",
    "\n",
    "print('Finished')"
   ]
  },
  {
   "cell_type": "markdown",
   "metadata": {},
   "source": [
    "## Insert Business payload "
   ]
  },
  {
   "cell_type": "code",
   "execution_count": 109,
   "metadata": {},
   "outputs": [
    {
     "name": "stdout",
     "output_type": "stream",
     "text": [
      "-rw-r--r-- 1 spark 4294967294 1.6M Oct  4 09:35 history_business_payloads_week.csv\r\n"
     ]
    }
   ],
   "source": [
    "with io.capture_output() as captured:\n",
    "    !wget https://raw.githubusercontent.com/pmservice/ai-openscale-tutorials/master/assets/historical_data/german_credit_risk/wml/history_business_payloads_week.csv -O history_business_payloads_week.csv\n",
    "!ls -lh history_business_payloads_week.csv"
   ]
  },
  {
   "cell_type": "code",
   "execution_count": 110,
   "metadata": {},
   "outputs": [
    {
     "name": "stdout",
     "output_type": "stream",
     "text": [
      "202 {\n",
      "  \"state\": \"preparing\"\n",
      "}\n"
     ]
    }
   ],
   "source": [
    "historicalData.load_historical_business_payload(business_payload_data_set_id, file_path=historical_data_path, file_name=\"history_business_payloads_week.csv\")\n",
    "time.sleep(60)"
   ]
  },
  {
   "cell_type": "markdown",
   "metadata": {},
   "source": [
    "## Insert historical BKPIs"
   ]
  },
  {
   "cell_type": "code",
   "execution_count": 111,
   "metadata": {},
   "outputs": [
    {
     "name": "stdout",
     "output_type": "stream",
     "text": [
      "-rw-r--r-- 1 spark 4294967294 706 Oct  4 09:36 history_business_metrics.json\r\n"
     ]
    }
   ],
   "source": [
    "with io.capture_output() as captured:\n",
    "    !wget https://raw.githubusercontent.com/pmservice/ai-openscale-tutorials/master/assets/historical_data/german_credit_risk/wml/history_business_metrics.json -O history_business_metrics.json\n",
    "!ls -lh history_business_metrics.json"
   ]
  },
  {
   "cell_type": "code",
   "execution_count": 112,
   "metadata": {
    "scrolled": true
   },
   "outputs": [],
   "source": [
    "historicalData.load_historical_kpi_measurements(monitor_instance_id=business_metrics_monitor_instance_id, filename=\"history_business_metrics.json\", file_path=historical_data_path)"
   ]
  },
  {
   "cell_type": "markdown",
   "metadata": {},
   "source": [
    "## Insert historical drift measurements "
   ]
  },
  {
   "cell_type": "code",
   "execution_count": 113,
   "metadata": {},
   "outputs": [
    {
     "name": "stdout",
     "output_type": "stream",
     "text": [
      "-rw-r--r-- 1 spark 4294967294 2.3K Oct  4 09:37 history_drift_metrics.json\r\n"
     ]
    }
   ],
   "source": [
    "with io.capture_output() as captured:\n",
    "    !wget https://raw.githubusercontent.com/pmservice/ai-openscale-tutorials/master/assets/historical_data/german_credit_risk/wml/history_drift_metrics.json -O history_drift_metrics.json\n",
    "!ls -lh history_drift_metrics.json"
   ]
  },
  {
   "cell_type": "code",
   "execution_count": 114,
   "metadata": {},
   "outputs": [],
   "source": [
    "historicalData.load_historical_drift_measurements(business_application_id=business_application_id, monitor_instance_id=drift_instance_id, filename=\"history_drift_metrics.json\", file_path=historical_data_path)"
   ]
  },
  {
   "cell_type": "markdown",
   "metadata": {},
   "source": [
    "## Run correlation monitor"
   ]
  },
  {
   "cell_type": "code",
   "execution_count": 115,
   "metadata": {},
   "outputs": [],
   "source": [
    "payload = {\n",
    "            \"triggered_by\": \"user\",\n",
    "            \"parameters\": {\n",
    "                \"max_number_of_days\": \"1000\"\n",
    "            },\n",
    "            \"business_metric_context\": {\n",
    "                \"business_application_id\": business_application_id,\n",
    "                \"metric_id\": \"\",\n",
    "                \"transaction_data_set_id\": \"\",\n",
    "                \"transaction_batch_id\": \"\"\n",
    "            }\n",
    "        }\n",
    "\n",
    "response = requests.post(url = \"/\".join((monitor_instances_url, corr_monitor_instance_id,\"runs\")), json=payload, headers=ai_client._get_headers())"
   ]
  },
  {
   "cell_type": "code",
   "execution_count": 116,
   "metadata": {},
   "outputs": [
    {
     "name": "stdout",
     "output_type": "stream",
     "text": [
      "Correlation status:  active\n"
     ]
    }
   ],
   "source": [
    "corr_status = None\n",
    "while corr_status != 'active':\n",
    "    corr_details = requests.get(url = \"/\".join((monitor_instances_url, corr_monitor_instance_id)), headers=ai_client._get_headers()).json()\n",
    "    corr_status = corr_details['entity']['status']['state']\n",
    "    if corr_status != 'active':\n",
    "        print(datetime.utcnow().strftime('%H:%M:%S'), corr_status)\n",
    "        time.sleep(10)\n",
    "print(\"Correlation status: \", corr_status)"
   ]
  },
  {
   "cell_type": "markdown",
   "metadata": {},
   "source": [
    "## Additional data to help debugging"
   ]
  },
  {
   "cell_type": "code",
   "execution_count": 117,
   "metadata": {
    "scrolled": true
   },
   "outputs": [
    {
     "name": "stdout",
     "output_type": "stream",
     "text": [
      "Datamart: 27d2155a-b202-44ac-955e-ee20b64f6c89\n",
      "Model: 13f276da-1f21-49bb-bbb9-a219d68a81af\n",
      "Deployment: bc0cc692-3db2-4436-ad9b-93733d466627\n",
      "Binding: a4729971-8653-4aae-a7ab-624185056799\n",
      "Scoring URL: https://us-south.ml.cloud.ibm.com/v3/wml_instances/a4729971-8653-4aae-a7ab-624185056799/deployments/bc0cc692-3db2-4436-ad9b-93733d466627/online\n"
     ]
    }
   ],
   "source": [
    "print('Datamart:', data_mart_id)\n",
    "print('Model:', model_uid)\n",
    "print('Deployment:', deployment_uid)\n",
    "print('Binding:', binding_uid)\n",
    "print('Scoring URL:', credit_risk_scoring_endpoint)"
   ]
  },
  {
   "cell_type": "markdown",
   "metadata": {},
   "source": [
    "## Identify transactions for Explainability"
   ]
  },
  {
   "cell_type": "markdown",
   "metadata": {},
   "source": [
    "Transaction IDs identified by the cells below can be copied and pasted into the Explainability tab of the OpenScale dashboard."
   ]
  },
  {
   "cell_type": "code",
   "execution_count": 118,
   "metadata": {},
   "outputs": [
    {
     "data": {
      "text/html": [
       "<div>\n",
       "<style scoped>\n",
       "    .dataframe tbody tr th:only-of-type {\n",
       "        vertical-align: middle;\n",
       "    }\n",
       "\n",
       "    .dataframe tbody tr th {\n",
       "        vertical-align: top;\n",
       "    }\n",
       "\n",
       "    .dataframe thead th {\n",
       "        text-align: right;\n",
       "    }\n",
       "</style>\n",
       "<table border=\"1\" class=\"dataframe\">\n",
       "  <thead>\n",
       "    <tr style=\"text-align: right;\">\n",
       "      <th></th>\n",
       "      <th>scoring_id</th>\n",
       "      <th>predictedLabel</th>\n",
       "      <th>probability</th>\n",
       "    </tr>\n",
       "  </thead>\n",
       "  <tbody>\n",
       "    <tr>\n",
       "      <td>0</td>\n",
       "      <td>0685f2ff-9bae-4bc2-b35d-3376be997256-1</td>\n",
       "      <td>No Risk</td>\n",
       "      <td>[0.9751076211223324, 0.02489237887766754]</td>\n",
       "    </tr>\n",
       "    <tr>\n",
       "      <td>1</td>\n",
       "      <td>0ca0ac7e-b470-4ddc-8388-2946953ea821-1</td>\n",
       "      <td>Risk</td>\n",
       "      <td>[0.3118585500723007, 0.6881414499276992]</td>\n",
       "    </tr>\n",
       "    <tr>\n",
       "      <td>2</td>\n",
       "      <td>0ddb64ea-ac35-427f-97e8-9284ecef80b8-1</td>\n",
       "      <td>Risk</td>\n",
       "      <td>[0.12254699916627461, 0.8774530008337253]</td>\n",
       "    </tr>\n",
       "    <tr>\n",
       "      <td>3</td>\n",
       "      <td>1116f42b-4ea0-46a0-bc22-f5a4de87d639-1</td>\n",
       "      <td>No Risk</td>\n",
       "      <td>[0.9211966421353927, 0.0788033578646074]</td>\n",
       "    </tr>\n",
       "    <tr>\n",
       "      <td>4</td>\n",
       "      <td>12178ae9-e8da-4833-8756-131273f971f5-1</td>\n",
       "      <td>Risk</td>\n",
       "      <td>[0.14864519303015117, 0.8513548069698489]</td>\n",
       "    </tr>\n",
       "    <tr>\n",
       "      <td>5</td>\n",
       "      <td>1360871c-d953-4229-a12f-2e70f608f888-1</td>\n",
       "      <td>No Risk</td>\n",
       "      <td>[0.8587320937150519, 0.14126790628494806]</td>\n",
       "    </tr>\n",
       "    <tr>\n",
       "      <td>6</td>\n",
       "      <td>17893d7b-199c-4cf1-b9e0-f9eee6506718-1</td>\n",
       "      <td>No Risk</td>\n",
       "      <td>[0.9574036723923557, 0.04259632760764427]</td>\n",
       "    </tr>\n",
       "    <tr>\n",
       "      <td>7</td>\n",
       "      <td>18a2e9d2-5a74-4432-a1f1-a0819bb4d9c9-1</td>\n",
       "      <td>Risk</td>\n",
       "      <td>[0.4216341471078639, 0.578365852892136]</td>\n",
       "    </tr>\n",
       "    <tr>\n",
       "      <td>8</td>\n",
       "      <td>1b015b8b-d10e-4b6b-b0a3-5bc81e837360-1</td>\n",
       "      <td>No Risk</td>\n",
       "      <td>[0.9326117208512411, 0.06738827914875888]</td>\n",
       "    </tr>\n",
       "    <tr>\n",
       "      <td>9</td>\n",
       "      <td>21f8fd44-3fc6-4202-9fc6-65bd71c2bb06-1</td>\n",
       "      <td>No Risk</td>\n",
       "      <td>[0.6401536220477168, 0.3598463779522833]</td>\n",
       "    </tr>\n",
       "    <tr>\n",
       "      <td>10</td>\n",
       "      <td>26074106-9836-44fb-8397-a1ff54c41879-1</td>\n",
       "      <td>Risk</td>\n",
       "      <td>[0.13739535568976724, 0.8626046443102326]</td>\n",
       "    </tr>\n",
       "    <tr>\n",
       "      <td>11</td>\n",
       "      <td>26996de4-b9c7-4e1a-95aa-a2d55568ac24-1</td>\n",
       "      <td>No Risk</td>\n",
       "      <td>[0.9046576836895596, 0.0953423163104404]</td>\n",
       "    </tr>\n",
       "    <tr>\n",
       "      <td>12</td>\n",
       "      <td>29fff155-982e-492e-bdec-71e65e1f2cae-1</td>\n",
       "      <td>No Risk</td>\n",
       "      <td>[0.6590853701123893, 0.3409146298876107]</td>\n",
       "    </tr>\n",
       "    <tr>\n",
       "      <td>13</td>\n",
       "      <td>345ffc1a-9f03-4a3a-9fc6-44289cbe6687-1</td>\n",
       "      <td>No Risk</td>\n",
       "      <td>[0.6187089752032228, 0.38129102479677723]</td>\n",
       "    </tr>\n",
       "    <tr>\n",
       "      <td>14</td>\n",
       "      <td>355af051-82c8-494f-a509-37549f685e7c-1</td>\n",
       "      <td>No Risk</td>\n",
       "      <td>[0.961928427848046, 0.0380715721519539]</td>\n",
       "    </tr>\n",
       "    <tr>\n",
       "      <td>15</td>\n",
       "      <td>38a7c5db-abc5-4571-b179-1fe410e573b8-1</td>\n",
       "      <td>No Risk</td>\n",
       "      <td>[0.9483407109574917, 0.051659289042508306]</td>\n",
       "    </tr>\n",
       "    <tr>\n",
       "      <td>16</td>\n",
       "      <td>38ae7855-f29d-4931-b985-ca85029c3b6c-1</td>\n",
       "      <td>No Risk</td>\n",
       "      <td>[0.7326306597127634, 0.2673693402872366]</td>\n",
       "    </tr>\n",
       "    <tr>\n",
       "      <td>17</td>\n",
       "      <td>3d14edae-1013-42b4-b8b0-125d1df31b04-1</td>\n",
       "      <td>No Risk</td>\n",
       "      <td>[0.8054679585279827, 0.1945320414720173]</td>\n",
       "    </tr>\n",
       "    <tr>\n",
       "      <td>18</td>\n",
       "      <td>3e27c85b-5963-475f-93dd-def3b3ff7e71-1</td>\n",
       "      <td>No Risk</td>\n",
       "      <td>[0.74829604909348, 0.25170395090651987]</td>\n",
       "    </tr>\n",
       "    <tr>\n",
       "      <td>19</td>\n",
       "      <td>3e7ad767-41af-405d-b61a-3d2dc235b0d8-1</td>\n",
       "      <td>No Risk</td>\n",
       "      <td>[0.9723052675017849, 0.02769473249821518]</td>\n",
       "    </tr>\n",
       "  </tbody>\n",
       "</table>\n",
       "</div>"
      ],
      "text/plain": [
       "                                scoring_id predictedLabel  \\\n",
       "0   0685f2ff-9bae-4bc2-b35d-3376be997256-1        No Risk   \n",
       "1   0ca0ac7e-b470-4ddc-8388-2946953ea821-1           Risk   \n",
       "2   0ddb64ea-ac35-427f-97e8-9284ecef80b8-1           Risk   \n",
       "3   1116f42b-4ea0-46a0-bc22-f5a4de87d639-1        No Risk   \n",
       "4   12178ae9-e8da-4833-8756-131273f971f5-1           Risk   \n",
       "5   1360871c-d953-4229-a12f-2e70f608f888-1        No Risk   \n",
       "6   17893d7b-199c-4cf1-b9e0-f9eee6506718-1        No Risk   \n",
       "7   18a2e9d2-5a74-4432-a1f1-a0819bb4d9c9-1           Risk   \n",
       "8   1b015b8b-d10e-4b6b-b0a3-5bc81e837360-1        No Risk   \n",
       "9   21f8fd44-3fc6-4202-9fc6-65bd71c2bb06-1        No Risk   \n",
       "10  26074106-9836-44fb-8397-a1ff54c41879-1           Risk   \n",
       "11  26996de4-b9c7-4e1a-95aa-a2d55568ac24-1        No Risk   \n",
       "12  29fff155-982e-492e-bdec-71e65e1f2cae-1        No Risk   \n",
       "13  345ffc1a-9f03-4a3a-9fc6-44289cbe6687-1        No Risk   \n",
       "14  355af051-82c8-494f-a509-37549f685e7c-1        No Risk   \n",
       "15  38a7c5db-abc5-4571-b179-1fe410e573b8-1        No Risk   \n",
       "16  38ae7855-f29d-4931-b985-ca85029c3b6c-1        No Risk   \n",
       "17  3d14edae-1013-42b4-b8b0-125d1df31b04-1        No Risk   \n",
       "18  3e27c85b-5963-475f-93dd-def3b3ff7e71-1        No Risk   \n",
       "19  3e7ad767-41af-405d-b61a-3d2dc235b0d8-1        No Risk   \n",
       "\n",
       "                                   probability  \n",
       "0    [0.9751076211223324, 0.02489237887766754]  \n",
       "1     [0.3118585500723007, 0.6881414499276992]  \n",
       "2    [0.12254699916627461, 0.8774530008337253]  \n",
       "3     [0.9211966421353927, 0.0788033578646074]  \n",
       "4    [0.14864519303015117, 0.8513548069698489]  \n",
       "5    [0.8587320937150519, 0.14126790628494806]  \n",
       "6    [0.9574036723923557, 0.04259632760764427]  \n",
       "7      [0.4216341471078639, 0.578365852892136]  \n",
       "8    [0.9326117208512411, 0.06738827914875888]  \n",
       "9     [0.6401536220477168, 0.3598463779522833]  \n",
       "10   [0.13739535568976724, 0.8626046443102326]  \n",
       "11    [0.9046576836895596, 0.0953423163104404]  \n",
       "12    [0.6590853701123893, 0.3409146298876107]  \n",
       "13   [0.6187089752032228, 0.38129102479677723]  \n",
       "14     [0.961928427848046, 0.0380715721519539]  \n",
       "15  [0.9483407109574917, 0.051659289042508306]  \n",
       "16    [0.7326306597127634, 0.2673693402872366]  \n",
       "17    [0.8054679585279827, 0.1945320414720173]  \n",
       "18     [0.74829604909348, 0.25170395090651987]  \n",
       "19   [0.9723052675017849, 0.02769473249821518]  "
      ]
     },
     "execution_count": 118,
     "metadata": {},
     "output_type": "execute_result"
    }
   ],
   "source": [
    "payload_data = subscription.payload_logging.get_table_content(limit=20)\n",
    "payload_data.filter(items=['scoring_id', 'predictedLabel', 'probability'])"
   ]
  },
  {
   "cell_type": "markdown",
   "metadata": {},
   "source": [
    "## Congratulations!\n",
    "\n",
    "You have finished the hands-on lab for IBM Watson OpenScale. You can now view the [OpenScale Dashboard](https://aiopenscale.cloud.ibm.com/). Click on the tile for the German Credit model to see fairness, accuracy, and performance monitors. Click on the timeseries graph to get detailed information on transactions during a specific time window.\n",
    "\n",
    "## Next steps\n",
    "\n",
    "OpenScale shows model performance over time. You have two options to keep data flowing to your OpenScale graphs:\n",
    "  * Download, configure and schedule the [model feed notebook](https://raw.githubusercontent.com/emartensibm/german-credit/master/german_credit_scoring_feed.ipynb). This notebook can be set up with your WML credentials, and scheduled to provide a consistent flow of scoring requests to your model, which will appear in your OpenScale monitors.\n",
    "  * Re-run this notebook. Running this notebook from the beginning will delete and re-create the model and deployment, and re-create the historical data. Please note that the payload and measurement logs for the previous deployment will continue to be stored in your datamart, and can be deleted if necessary."
   ]
  },
  {
   "cell_type": "markdown",
   "metadata": {},
   "source": [
    "## Authors\n",
    "\n",
    "Eric Martens, is a technical specialist having expertise in analysis and description of business processes, and their translation into functional and non-functional IT requirements. He acts as the interpreter between the worlds of IT and business.\n",
    "\n",
    "Lukasz Cmielowski, PhD, is an Automation Architect and Data Scientist at IBM with a track record of developing enterprise-level applications that substantially increases clients' ability to turn data into actionable knowledge."
   ]
  }
 ],
 "metadata": {
  "kernelspec": {
   "display_name": "Python 3",
   "language": "python",
   "name": "python3"
  },
  "language_info": {
   "codemirror_mode": {
    "name": "ipython",
    "version": 3
   },
   "file_extension": ".py",
   "mimetype": "text/x-python",
   "name": "python",
   "nbconvert_exporter": "python",
   "pygments_lexer": "ipython3",
   "version": "3.5.2"
  }
 },
 "nbformat": 4,
 "nbformat_minor": 1
}
